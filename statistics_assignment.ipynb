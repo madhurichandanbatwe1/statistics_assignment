{
 "cells": [
  {
   "cell_type": "markdown",
   "id": "3adff057-15c9-4789-b7dc-82b6f322e4b8",
   "metadata": {},
   "source": [
    "Q= Generate a list o> R00 integers containing values between 90 to R30 and store it in the variable `int_list`. \n",
    "A>ter generating the list, >ind the >ollowing:\n",
    "\n",
    "  \n",
    "\n",
    "  (i) Write a Python function to calculate the mean of a given list of numbers.\n",
    "\n",
    "Create a function to find the median of a list of numbers.\n",
    "\n",
    "  \n",
    "\n",
    "  (ii) Develop a program to compute the mode of a list of integers.\n",
    "\n",
    "  \n",
    "\n",
    "  (iii) Implement a function to calculate the weighted mean of a list of values and their corresponding weights.\n",
    "\n",
    "  \n",
    "\n",
    "  (iv) Write a Python function to find the geometric mean of a list of positive numbers.\n",
    "\n",
    "  \n",
    "\n",
    "  (v) Create a program to calculate the harmonic mean of a list of values.\n",
    "\n",
    "  \n",
    "\n",
    "  (vi) Build a function to determine the midrange of a list of numbers (average of the minimum and maximum).\n",
    "\n",
    "  \n",
    "\n",
    "  (vii) Implement a Python program to find the trimmed mean of a list, excluding a certain percentage of \n",
    "outliers"
   ]
  },
  {
   "cell_type": "code",
   "execution_count": 28,
   "id": "2621bb8d-645e-4d37-82aa-51ab87c418f5",
   "metadata": {},
   "outputs": [],
   "source": [
    "import numpy as np\n",
    "import pandas as pd\n",
    "import seaborn as sns\n",
    "import matplotlib.pyplot as plt\n",
    "%matplotlib inline"
   ]
  },
  {
   "cell_type": "code",
   "execution_count": 7,
   "id": "d4f86abe-ec66-4059-a17c-b5d99c8c6c6e",
   "metadata": {},
   "outputs": [],
   "source": [
    "int_list=np.random.randint(90,130,100)"
   ]
  },
  {
   "cell_type": "code",
   "execution_count": 8,
   "id": "15506e23-73cb-4b54-9327-8fefe7d095c1",
   "metadata": {},
   "outputs": [
    {
     "data": {
      "text/plain": [
       "array([122, 121,  93, 122,  96,  93, 119,  91,  93, 103, 104, 121,  93,\n",
       "        99, 106,  96,  98,  90,  97, 109, 105, 103,  93, 108, 106,  90,\n",
       "        94, 121, 129, 111, 112, 128, 113, 112, 104, 127,  94, 126, 103,\n",
       "       117, 115, 110, 124, 120, 118, 102, 109, 104, 110, 115, 111,  99,\n",
       "       116, 118, 123, 116, 125, 105, 129, 124, 101, 106,  99, 113, 128,\n",
       "       128, 104, 129, 115, 125, 111, 104, 126, 108, 108, 113, 123, 101,\n",
       "        96,  90, 110, 104, 117,  93, 107,  90,  99, 109, 122,  92,  93,\n",
       "       100, 103, 126, 102, 117, 109, 125,  95, 113])"
      ]
     },
     "execution_count": 8,
     "metadata": {},
     "output_type": "execute_result"
    }
   ],
   "source": [
    "int_list"
   ]
  },
  {
   "cell_type": "code",
   "execution_count": 14,
   "id": "57579c14-0f04-48b4-ac84-8d84a555d667",
   "metadata": {},
   "outputs": [],
   "source": [
    "mean=np.mean(int_list)"
   ]
  },
  {
   "cell_type": "code",
   "execution_count": 15,
   "id": "0060e628-5b95-44de-ad24-2677a404966a",
   "metadata": {},
   "outputs": [
    {
     "data": {
      "text/plain": [
       "109.09"
      ]
     },
     "execution_count": 15,
     "metadata": {},
     "output_type": "execute_result"
    }
   ],
   "source": [
    "mean"
   ]
  },
  {
   "cell_type": "code",
   "execution_count": 16,
   "id": "3b859b82-3227-4916-adaf-988f90937e0c",
   "metadata": {},
   "outputs": [],
   "source": [
    "median=np.median(int_list)"
   ]
  },
  {
   "cell_type": "code",
   "execution_count": 13,
   "id": "af505ba8-7725-45e9-a9af-cd3b1ac51ea4",
   "metadata": {},
   "outputs": [
    {
     "data": {
      "text/plain": [
       "109.0"
      ]
     },
     "execution_count": 13,
     "metadata": {},
     "output_type": "execute_result"
    }
   ],
   "source": [
    "median"
   ]
  },
  {
   "cell_type": "code",
   "execution_count": 19,
   "id": "8473b726-01e4-4cfd-9448-a13b6939bf90",
   "metadata": {},
   "outputs": [
    {
     "data": {
      "text/plain": [
       "93"
      ]
     },
     "execution_count": 19,
     "metadata": {},
     "output_type": "execute_result"
    }
   ],
   "source": [
    "import statistics\n",
    "\n",
    "mode=statistics.mode(int_list)\n",
    "mode"
   ]
  },
  {
   "cell_type": "code",
   "execution_count": 20,
   "id": "bdce1720-22df-4f35-91d8-da3d0358c243",
   "metadata": {},
   "outputs": [
    {
     "name": "stdout",
     "output_type": "stream",
     "text": [
      "Weighted Mean: 8.0\n"
     ]
    }
   ],
   "source": [
    "def weighted_mean(values, weights):\n",
    "    if len(values) != len(weights):\n",
    "        raise ValueError(\"The length of values and weights must be the same.\")\n",
    "    \n",
    "    # Calculate the weighted mean\n",
    "    numerator = sum(v * w for v, w in zip(values, weights))\n",
    "    denominator = sum(weights)\n",
    "    \n",
    "    if denominator == 0:\n",
    "        raise ValueError(\"The sum of weights must not be zero.\")\n",
    "    \n",
    "    return numerator / denominator\n",
    "\n",
    "# Example usage:\n",
    "values = [4, 6, 8, 10]\n",
    "weights = [1, 2, 3, 4]\n",
    "\n",
    "result = weighted_mean(values, weights)\n",
    "print(\"Weighted Mean:\", result)\n"
   ]
  },
  {
   "cell_type": "code",
   "execution_count": 21,
   "id": "44016b6c-613a-4346-8b87-52a1f926ac71",
   "metadata": {},
   "outputs": [
    {
     "name": "stdout",
     "output_type": "stream",
     "text": [
      "Geometric Mean: 5.656854249492381\n"
     ]
    }
   ],
   "source": [
    "import math\n",
    "\n",
    "def geometric_mean(values):\n",
    "    if len(values) == 0:\n",
    "        raise ValueError(\"The list of values must not be empty.\")\n",
    "    \n",
    "    if any(v <= 0 for v in values):\n",
    "        raise ValueError(\"All values must be positive.\")\n",
    "    \n",
    "    # Calculate the product of all values\n",
    "    product = 1\n",
    "    for v in values:\n",
    "        product *= v\n",
    "    \n",
    "    # Calculate the geometric mean\n",
    "    n = len(values)\n",
    "    return product ** (1/n)\n",
    "\n",
    "# Example usage:\n",
    "values = [2, 4, 8, 16]\n",
    "\n",
    "result = geometric_mean(values)\n",
    "print(\"Geometric Mean:\", result)\n"
   ]
  },
  {
   "cell_type": "code",
   "execution_count": 22,
   "id": "7d6d780e-de94-4904-a907-ca3f5a1b9e3b",
   "metadata": {},
   "outputs": [
    {
     "name": "stdout",
     "output_type": "stream",
     "text": [
      "Harmonic Mean: 2.7692307692307696\n"
     ]
    }
   ],
   "source": [
    "def harmonic_mean(values):\n",
    "    if len(values) == 0:\n",
    "        raise ValueError(\"The list of values must not be empty.\")\n",
    "    \n",
    "    if any(v <= 0 for v in values):\n",
    "        raise ValueError(\"All values must be positive and non-zero.\")\n",
    "    \n",
    "    # Calculate the sum of the reciprocals of the values\n",
    "    reciprocal_sum = sum(1 / v for v in values)\n",
    "    \n",
    "    # Calculate the harmonic mean\n",
    "    n = len(values)\n",
    "    return n / reciprocal_sum\n",
    "\n",
    "# Example usage:\n",
    "values = [2, 3, 4]\n",
    "\n",
    "result = harmonic_mean(values)\n",
    "print(\"Harmonic Mean:\", result)\n"
   ]
  },
  {
   "cell_type": "code",
   "execution_count": 23,
   "id": "c75a23bb-9952-4219-84f2-7808787911f7",
   "metadata": {},
   "outputs": [
    {
     "name": "stdout",
     "output_type": "stream",
     "text": [
      "Midrange: 9.5\n"
     ]
    }
   ],
   "source": [
    "def midrange(values):\n",
    "    if len(values) == 0:\n",
    "        raise ValueError(\"The list of values must not be empty.\")\n",
    "    \n",
    "    # Find the minimum and maximum values in the list\n",
    "    min_value = min(values)\n",
    "    max_value = max(values)\n",
    "    \n",
    "    # Calculate the midrange\n",
    "    return (min_value + max_value) / 2\n",
    "\n",
    "# Example usage:\n",
    "values = [4, 7, 10, 12, 15]\n",
    "\n",
    "result = midrange(values)\n",
    "print(\"Midrange:\", result)\n"
   ]
  },
  {
   "cell_type": "code",
   "execution_count": 24,
   "id": "39aa5872-9883-4ee4-bb9d-621f969ec8be",
   "metadata": {},
   "outputs": [
    {
     "name": "stdout",
     "output_type": "stream",
     "text": [
      "Trimmed Mean: 5.5\n"
     ]
    }
   ],
   "source": [
    "def trimmed_mean(values, trim_percent):\n",
    "    if len(values) == 0:\n",
    "        raise ValueError(\"The list of values must not be empty.\")\n",
    "    \n",
    "    if not (0 <= trim_percent < 50):\n",
    "        raise ValueError(\"Trim percent must be between 0 and 50.\")\n",
    "\n",
    "    # Sort the list of values\n",
    "    sorted_values = sorted(values)\n",
    "    \n",
    "    # Calculate the number of values to remove from each end\n",
    "    n = len(values)\n",
    "    k = int(n * trim_percent / 100)\n",
    "    \n",
    "    # Trim the values\n",
    "    trimmed_values = sorted_values[k:n-k]\n",
    "    \n",
    "    if len(trimmed_values) == 0:\n",
    "        raise ValueError(\"Trimmed list is empty. Adjust the trim_percent or provide more data.\")\n",
    "    \n",
    "    # Calculate and return the mean of the trimmed values\n",
    "    return sum(trimmed_values) / len(trimmed_values)\n",
    "\n",
    "# Example usage:\n",
    "values = [1, 2, 3, 4, 5, 6, 7, 8, 9, 100]\n",
    "trim_percent = 10\n",
    "\n",
    "result = trimmed_mean(values, trim_percent)\n",
    "print(\"Trimmed Mean:\", result)\n"
   ]
  },
  {
   "cell_type": "markdown",
   "id": "ee7d7a00-c549-4b6c-b9c9-08118babbf02",
   "metadata": {},
   "source": [
    " 2. Generate a list o> 500 integers containing values between 200 to 300 and store it in the variable `int_list2`. \n",
    "A>ter generating the list, >ind the >ollowing:\n",
    "\n",
    "\n",
    "  (i) Compare the given list of visualization for the given data:\n",
    "\n",
    "    \n",
    "\n",
    "    1. Frequency & Gaussian distribution\n",
    "\n",
    "    2. Frequency smoothened KDE plot\n",
    "\n",
    "    3. Gaussian distribution & smoothened KDE plot\n",
    "\n",
    "\n",
    "  (ii) Write a Python function to calculate the range of a given list of numbers.\n",
    "\n",
    "\n",
    "  (iii) Create a program to find the variance and standard deviation of a list of numbers.\n",
    "\n",
    "\n",
    "  (iv) Implement a function to compute the interquartile range (IQR) of a list of values.\n",
    "\n",
    "\n",
    "  (v) Build a program to calculate the coefficient of variation for a dataset.\n",
    "\n",
    "  \n",
    "\n",
    "  (vi) Write a Python function to find the mean absolute deviation (MAD) of a list of numbers.\n",
    "\n",
    "\n",
    "  (vii) Create a program to calculate the quartile deviation of a list of values.\n",
    "\n",
    "  \n",
    "\n",
    "  (viii) Implement a function to find the range-based coefficient of dispersion for a dataset."
   ]
  },
  {
   "cell_type": "code",
   "execution_count": 25,
   "id": "32ad250a-2728-443d-aa80-521fce7a01d9",
   "metadata": {},
   "outputs": [],
   "source": [
    "int_list2=np.random.randint(200,300,500)"
   ]
  },
  {
   "cell_type": "code",
   "execution_count": 26,
   "id": "3a30e41b-e6e1-4907-bcda-c40deb7de7e2",
   "metadata": {},
   "outputs": [
    {
     "data": {
      "text/plain": [
       "array([229, 207, 249, 263, 265, 291, 210, 219, 218, 279, 280, 247, 247,\n",
       "       296, 220, 245, 293, 256, 286, 286, 215, 218, 251, 227, 252, 270,\n",
       "       240, 243, 293, 293, 275, 278, 238, 289, 297, 232, 277, 244, 243,\n",
       "       236, 281, 266, 226, 236, 209, 208, 266, 264, 255, 221, 206, 271,\n",
       "       269, 208, 202, 230, 242, 296, 203, 222, 267, 256, 289, 235, 273,\n",
       "       271, 294, 217, 251, 259, 217, 259, 231, 213, 247, 242, 220, 266,\n",
       "       208, 227, 288, 204, 203, 215, 254, 297, 229, 233, 232, 283, 271,\n",
       "       290, 260, 269, 275, 272, 289, 213, 285, 280, 235, 218, 286, 272,\n",
       "       280, 242, 271, 245, 278, 250, 257, 212, 252, 257, 280, 204, 244,\n",
       "       249, 290, 210, 228, 275, 288, 283, 283, 274, 288, 265, 224, 224,\n",
       "       288, 263, 295, 204, 273, 293, 261, 245, 266, 271, 285, 299, 229,\n",
       "       203, 233, 254, 233, 212, 203, 298, 270, 288, 294, 230, 281, 283,\n",
       "       267, 289, 284, 265, 219, 228, 262, 229, 293, 228, 249, 268, 295,\n",
       "       249, 203, 265, 243, 297, 201, 262, 284, 208, 211, 202, 279, 207,\n",
       "       223, 242, 237, 276, 292, 255, 296, 225, 278, 218, 205, 289, 237,\n",
       "       249, 220, 297, 285, 210, 275, 209, 228, 238, 237, 231, 278, 291,\n",
       "       207, 245, 203, 225, 225, 216, 217, 282, 293, 244, 287, 257, 214,\n",
       "       204, 265, 224, 223, 248, 239, 217, 211, 256, 279, 248, 266, 271,\n",
       "       289, 287, 275, 273, 241, 293, 240, 229, 253, 263, 271, 225, 225,\n",
       "       217, 282, 252, 278, 221, 236, 249, 292, 299, 240, 279, 275, 263,\n",
       "       282, 279, 210, 245, 233, 221, 201, 202, 295, 281, 229, 240, 203,\n",
       "       265, 235, 265, 291, 269, 225, 227, 292, 280, 256, 282, 236, 241,\n",
       "       218, 241, 235, 258, 297, 207, 239, 226, 265, 256, 267, 251, 221,\n",
       "       278, 220, 217, 299, 264, 233, 283, 299, 200, 219, 279, 295, 266,\n",
       "       226, 228, 218, 272, 224, 253, 212, 207, 228, 296, 210, 232, 285,\n",
       "       225, 258, 289, 277, 226, 245, 230, 240, 222, 235, 251, 257, 230,\n",
       "       228, 234, 297, 272, 208, 273, 269, 238, 224, 212, 271, 297, 280,\n",
       "       245, 203, 200, 260, 276, 240, 217, 289, 208, 294, 292, 284, 271,\n",
       "       251, 223, 264, 235, 213, 299, 204, 294, 240, 279, 210, 295, 216,\n",
       "       275, 225, 266, 256, 276, 286, 263, 298, 232, 264, 236, 248, 265,\n",
       "       277, 212, 221, 292, 279, 241, 239, 231, 245, 246, 242, 268, 296,\n",
       "       264, 249, 279, 220, 216, 295, 251, 203, 206, 282, 205, 294, 294,\n",
       "       269, 208, 276, 224, 284, 218, 265, 241, 287, 283, 237, 267, 224,\n",
       "       280, 232, 215, 211, 238, 261, 222, 206, 228, 231, 278, 272, 289,\n",
       "       271, 239, 225, 297, 211, 274, 261, 222, 242, 234, 205, 213, 272,\n",
       "       205, 293, 279, 240, 222, 241, 224, 285, 220, 253, 275, 201, 226,\n",
       "       257, 226, 269, 253, 252, 202, 276, 256, 269, 283, 287, 278, 285,\n",
       "       248, 201, 245, 253, 235, 228, 208, 289, 222, 284, 261, 209, 239,\n",
       "       250, 298, 268, 255, 272, 233])"
      ]
     },
     "execution_count": 26,
     "metadata": {},
     "output_type": "execute_result"
    }
   ],
   "source": [
    "int_list2"
   ]
  },
  {
   "cell_type": "code",
   "execution_count": 30,
   "id": "bc67bd63-2c4f-4e2e-9c6c-51c2eef758cb",
   "metadata": {},
   "outputs": [
    {
     "name": "stderr",
     "output_type": "stream",
     "text": [
      "C:\\Users\\madhu\\anaconda3\\Lib\\site-packages\\seaborn\\_oldcore.py:1119: FutureWarning: use_inf_as_na option is deprecated and will be removed in a future version. Convert inf values to NaN before operating instead.\n",
      "  with pd.option_context('mode.use_inf_as_na', True):\n"
     ]
    },
    {
     "data": {
      "text/plain": [
       "<Axes: ylabel='Count'>"
      ]
     },
     "execution_count": 30,
     "metadata": {},
     "output_type": "execute_result"
    },
    {
     "data": {
      "image/png": "[encoded data removed]",
      "text/plain": [
       "<Figure size 640x480 with 1 Axes>"
      ]
     },
     "metadata": {},
     "output_type": "display_data"
    }
   ],
   "source": [
    "sns.histplot (data=int_list2,kde=True)"
   ]
  },
  {
   "cell_type": "markdown",
   "id": "d5d2d108-2f16-420b-bc3f-17e239ffebaa",
   "metadata": {},
   "source": [
    "When comparing visualizations for data, particularly those that describe the distribution of a dataset, it's essential to understand how each method represents the underlying data and what insights it can provide. Below, I will compare the three listed visualization methods:\n",
    "\n",
    "### 1. **Frequency & Gaussian Distribution**\n",
    "   \n",
    "- **Frequency (Histogram):**\n",
    "  - A histogram is a bar plot that shows the frequency (or count) of data points within certain ranges (bins). \n",
    "  - It provides a visual representation of how data is distributed across different values.\n",
    "  - The shape of the histogram can give insights into the modality (e.g., unimodal, bimodal) and skewness of the data.\n",
    "\n",
    "- **Gaussian Distribution (Normal Distribution Curve):**\n",
    "  - The Gaussian distribution is a theoretical bell-shaped curve that assumes the data follows a normal distribution, with the mean at the center and symmetrical tails.\n",
    "  - When overlaid on a histogram, it provides a reference to see how closely the data follows a normal distribution.\n",
    "  - If the histogram closely matches the Gaussian curve, it suggests the data is normally distributed.\n",
    "\n",
    "- **Comparison:**\n",
    "  - This combination allows you to visually assess how closely your data follows a normal distribution.\n",
    "  - If the histogram deviates significantly from the Gaussian curve, it suggests that the data may be skewed, have outliers, or follow a different distribution.\n",
    "\n",
    "### 2. **Frequency Smoothened KDE Plot**\n",
    "   \n",
    "- **KDE Plot (Kernel Density Estimate):**\n",
    "  - A KDE plot is a smooth curve that estimates the probability density function of a dataset. \n",
    "  - Unlike histograms, which are bin-based and discrete, KDE plots provide a continuous estimate, smoothing out the data points.\n",
    "  - It adjusts the level of smoothing based on a bandwidth parameter, which determines how much influence each data point has on the overall curve.\n",
    "\n",
    "- **Comparison:**\n",
    "  - The KDE plot provides a smoothed version of the histogram, which can sometimes offer a clearer picture of the data’s distribution, especially when dealing with small datasets or choosing inappropriate bin sizes in histograms.\n",
    "  - KDE plots can highlight subtle features in the data, such as small peaks or valleys, that might be obscured in a histogram.\n",
    "  - It is useful when you want a more nuanced view of the data’s distribution, particularly when dealing with complex or multi-modal data.\n",
    "\n",
    "### 3. **Gaussian Distribution & Smoothened KDE Plot**\n",
    "   \n",
    "- **Comparison:**\n",
    "  - Comparing a Gaussian distribution with a smoothened KDE plot allows you to directly assess how closely the observed data follows a normal distribution, similar to the first method.\n",
    "  - The KDE plot will represent the actual distribution of the data, while the Gaussian curve represents an idealized normal distribution.\n",
    "  - If the KDE plot aligns closely with the Gaussian curve, the data is likely normally distributed. Deviations between the KDE and Gaussian curves can indicate non-normality, such as skewness or multi-modality.\n",
    "\n",
    "### **Overall Comparison**\n",
    "\n",
    "- **Histogram vs. KDE Plot:**\n",
    "  - Histograms are more straightforward and easier to interpret for many people, particularly when you need to show the exact frequency of data points within specific ranges.\n",
    "  - KDE plots provide a more refined and smooth representation of the distribution, which can be more useful for continuous data or when you want to see the overall shape of the distribution without the influence of arbitrary bin sizes.\n",
    "\n",
    "- **Gaussian Distribution:**\n",
    "  - Overlaying a Gaussian distribution on either a histogram or a KDE plot provides a useful reference for assessing normality.\n",
    "  - The combination with a histogram is more intuitive and useful for showing deviations from normality in a discrete way, while the combination with a KDE plot offers a smoother, continuous comparison.\n",
    "\n",
    "### **Use Cases:**\n",
    "- **Frequency & Gaussian Distribution:** Best when you want to compare actual data counts with the expected normal distribution, particularly in exploratory data analysis.\n",
    "- **Frequency Smoothened KDE Plot:** Ideal for when you need a smooth representation of data distribution, particularly in cases where the histogram might be misleading due to small sample sizes or inappropriate bin choices.\n",
    "- **Gaussian Distribution & Smoothened KDE Plot:** Useful when you need to assess how well the data conforms to normality, with a smooth and continuous comparison between the empirical data and the theoretical distribution. \n",
    "\n",
    "Choosing the right visualization depends on the nature of your data and what you aim to convey or discover through the analysis."
   ]
  },
  {
   "cell_type": "code",
   "execution_count": 39,
   "id": "2cfc1a06-8606-402a-bd15-f3d41c7f45d1",
   "metadata": {},
   "outputs": [
    {
     "name": "stdout",
     "output_type": "stream",
     "text": [
      "Range: 99\n"
     ]
    }
   ],
   "source": [
    "def calculate_range(values):\n",
    "    if len(values) == 0:\n",
    "        raise ValueError(\"The list of values must not be empty.\")\n",
    "    \n",
    "    # Find the minimum and maximum values\n",
    "    min_value = min(values)\n",
    "    max_value = max(values)\n",
    "    \n",
    "    # Calculate the range\n",
    "    return max_value - min_value\n",
    "\n",
    "# Example usage:\n",
    "# values = [10, 15, 20, 25, 30]\n",
    "\n",
    "result = calculate_range(int_list2)\n",
    "print(\"Range:\", result)\n"
   ]
  },
  {
   "cell_type": "code",
   "execution_count": 33,
   "id": "0dc9df05-479b-48d7-afd1-c3c8d3ffdd5d",
   "metadata": {},
   "outputs": [
    {
     "data": {
      "text/plain": [
       "848.7471359999998"
      ]
     },
     "execution_count": 33,
     "metadata": {},
     "output_type": "execute_result"
    }
   ],
   "source": [
    "np.var(int_list2)"
   ]
  },
  {
   "cell_type": "code",
   "execution_count": 34,
   "id": "dd577bcf-e9d0-45fa-a0b6-3875c1e8f46a",
   "metadata": {},
   "outputs": [
    {
     "data": {
      "text/plain": [
       "29.13326511052271"
      ]
     },
     "execution_count": 34,
     "metadata": {},
     "output_type": "execute_result"
    }
   ],
   "source": [
    "np.std(int_list2)"
   ]
  },
  {
   "cell_type": "code",
   "execution_count": 43,
   "id": "7323a02b-ada0-49b0-bf40-cc3af7437051",
   "metadata": {},
   "outputs": [],
   "source": [
    "q1=np.percentile(int_list2,25)"
   ]
  },
  {
   "cell_type": "code",
   "execution_count": 44,
   "id": "4e7a2a37-a425-4d72-97d9-5b8e2f2a32ac",
   "metadata": {},
   "outputs": [],
   "source": [
    "q3=np.percentile(int_list2,75)"
   ]
  },
  {
   "cell_type": "code",
   "execution_count": 45,
   "id": "c0478cda-ef00-480b-9bf8-ee1b11fe292a",
   "metadata": {},
   "outputs": [],
   "source": [
    "iqr=q3-q1"
   ]
  },
  {
   "cell_type": "code",
   "execution_count": 46,
   "id": "cb7dc978-d483-490c-b48d-b4adff20b627",
   "metadata": {},
   "outputs": [
    {
     "data": {
      "text/plain": [
       "52.25"
      ]
     },
     "execution_count": 46,
     "metadata": {},
     "output_type": "execute_result"
    }
   ],
   "source": [
    "iqr"
   ]
  },
  {
   "cell_type": "code",
   "execution_count": 41,
   "id": "f4b93892-e3aa-4541-b43a-3240c5579f71",
   "metadata": {},
   "outputs": [
    {
     "name": "stdout",
     "output_type": "stream",
     "text": [
      "Coefficient of Variation: 11.615763895299487 %\n"
     ]
    }
   ],
   "source": [
    "import math\n",
    "\n",
    "def mean(values):\n",
    "    return sum(values) / len(values)\n",
    "\n",
    "def standard_deviation(values):\n",
    "    mean_value = mean(values)\n",
    "    variance = sum((x - mean_value) ** 2 for x in values) / len(values)\n",
    "    return math.sqrt(variance)\n",
    "\n",
    "def coefficient_of_variation(values):\n",
    "    if len(values) == 0:\n",
    "        raise ValueError(\"The list of values must not be empty.\")\n",
    "    \n",
    "    mean_value = mean(values)\n",
    "    \n",
    "    if mean_value == 0:\n",
    "        raise ValueError(\"The mean of the values is zero, which results in an undefined coefficient of variation.\")\n",
    "    \n",
    "    std_dev = standard_deviation(values)\n",
    "    \n",
    "    # Calculate the coefficient of variation\n",
    "    return (std_dev / mean_value) * 100\n",
    "\n",
    "# Example usage:\n",
    "# values = [10, 20, 30, 40, 50]\n",
    "\n",
    "cv = coefficient_of_variation(int_list2)\n",
    "print(\"Coefficient of Variation:\", cv, \"%\")\n"
   ]
  },
  {
   "cell_type": "code",
   "execution_count": 42,
   "id": "0588e758-557f-45ca-819f-181241961c9e",
   "metadata": {},
   "outputs": [
    {
     "name": "stdout",
     "output_type": "stream",
     "text": [
      "Mean Absolute Deviation (MAD): 25.604768000000004\n"
     ]
    }
   ],
   "source": [
    "def mean(values):\n",
    "    return sum(values) / len(values)\n",
    "\n",
    "def mean_absolute_deviation(values):\n",
    "    if len(values) == 0:\n",
    "        raise ValueError(\"The list of values must not be empty.\")\n",
    "    \n",
    "    # Calculate the mean of the values\n",
    "    mean_value = mean(values)\n",
    "    \n",
    "    # Calculate the absolute deviations from the mean\n",
    "    absolute_deviations = [abs(x - mean_value) for x in values]\n",
    "    \n",
    "    # Calculate the mean of the absolute deviations\n",
    "    mad = sum(absolute_deviations) / len(values)\n",
    "    \n",
    "    return mad\n",
    "\n",
    "# Example usage:\n",
    "# values = [10, 20, 30, 40, 50]\n",
    "\n",
    "mad = mean_absolute_deviation(int_list2)\n",
    "print(\"Mean Absolute Deviation (MAD):\", mad)\n"
   ]
  },
  {
   "cell_type": "code",
   "execution_count": 48,
   "id": "1c2b1a0e-4f11-4ce7-ad33-016d18d26ac1",
   "metadata": {},
   "outputs": [
    {
     "name": "stdout",
     "output_type": "stream",
     "text": [
      "Quartile Deviation: 26.125\n"
     ]
    }
   ],
   "source": [
    "import numpy as np\n",
    "\n",
    "def quartile_deviation(values):\n",
    "    if len(values) == 0:\n",
    "        raise ValueError(\"The list of values must not be empty.\")\n",
    "    \n",
    "    # Calculate the first and third quartiles (Q1 and Q3)\n",
    "    Q1 = np.percentile(values, 25)\n",
    "    Q3 = np.percentile(values, 75)\n",
    "    \n",
    "    # Calculate the quartile deviation\n",
    "    return (Q3 - Q1) / 2\n",
    "\n",
    "\n",
    "# Example usage:\n",
    "# values = [10, 20, 30, 40, 50, 60, 70, 80, 90, 100]\n",
    "\n",
    "qd = quartile_deviation(int_list2)\n",
    "print(\"Quartile Deviation:\", qd)\n"
   ]
  },
  {
   "cell_type": "code",
   "execution_count": 49,
   "id": "6314b14f-ff04-4ba0-a921-6fdd60d94167",
   "metadata": {},
   "outputs": [
    {
     "name": "stdout",
     "output_type": "stream",
     "text": [
      "Coefficient of Dispersion: 39.472425122005674 %\n"
     ]
    }
   ],
   "source": [
    "def mean(values):\n",
    "    return sum(values) / len(values)\n",
    "\n",
    "def range_of_values(values):\n",
    "    return max(values) - min(values)\n",
    "\n",
    "def coefficient_of_dispersion(values):\n",
    "    if len(values) == 0:\n",
    "        raise ValueError(\"The list of values must not be empty.\")\n",
    "    \n",
    "    mean_value = mean(values)\n",
    "    \n",
    "    if mean_value == 0:\n",
    "        raise ValueError(\"The mean of the values is zero, which results in an undefined coefficient of dispersion.\")\n",
    "    \n",
    "    range_value = range_of_values(values)\n",
    "    \n",
    "    # Calculate the coefficient of dispersion\n",
    "    return (range_value / mean_value) * 100\n",
    "\n",
    "# Example usage:\n",
    "# values = [10, 20, 30, 40, 50]\n",
    "\n",
    "cd = coefficient_of_dispersion(int_list2)\n",
    "print(\"Coefficient of Dispersion:\", cd, \"%\")\n"
   ]
  },
  {
   "cell_type": "markdown",
   "id": "398926de-039b-4ca5-b676-87ecfcec9093",
   "metadata": {},
   "source": [
    "\u001d",
    ")  Write a P\u001e",
    "thon class representing a discrete random variable with methods to calculate its expected \n",
    "value and variance"
   ]
  },
  {
   "cell_type": "code",
   "execution_count": 50,
   "id": "5268e12b-710d-470c-85fc-4ae52d0fc635",
   "metadata": {},
   "outputs": [
    {
     "name": "stdout",
     "output_type": "stream",
     "text": [
      "Expected Value: 3.0\n",
      "Variance: 1.0\n"
     ]
    }
   ],
   "source": [
    "class DiscreteRandomVariable:\n",
    "    def __init__(self, values, probabilities):\n",
    "        if len(values) != len(probabilities):\n",
    "            raise ValueError(\"The number of values and probabilities must be the same.\")\n",
    "        if any(p < 0 or p > 1 for p in probabilities):\n",
    "            raise ValueError(\"Probabilities must be between 0 and 1.\")\n",
    "        if abs(sum(probabilities) - 1) > 1e-6:\n",
    "            raise ValueError(\"The sum of probabilities must be 1.\")\n",
    "        \n",
    "        self.values = values\n",
    "        self.probabilities = probabilities\n",
    "    \n",
    "    def expected_value(self):\n",
    "        \"\"\"\n",
    "        Calculate the expected value (mean) of the discrete random variable.\n",
    "        \"\"\"\n",
    "        return sum(v * p for v, p in zip(self.values, self.probabilities))\n",
    "    \n",
    "    def variance(self):\n",
    "        \"\"\"\n",
    "        Calculate the variance of the discrete random variable.\n",
    "        \"\"\"\n",
    "        mean = self.expected_value()\n",
    "        return sum(p * (v - mean) ** 2 for v, p in zip(self.values, self.probabilities))\n",
    "\n",
    "# Example usage:\n",
    "values = [1, 2, 3, 4]\n",
    "probabilities = [0.1, 0.2, 0.3, 0.4]\n",
    "\n",
    "random_variable = DiscreteRandomVariable(values, probabilities)\n",
    "\n",
    "expected_value = random_variable.expected_value()\n",
    "variance = random_variable.variance()\n",
    "\n",
    "print(\"Expected Value:\", expected_value)\n",
    "print(\"Variance:\", variance)\n"
   ]
  },
  {
   "cell_type": "markdown",
   "id": "24993204-c897-4964-bd73-d6b6e617e639",
   "metadata": {},
   "source": [
    "Implement a program to simulate the rolling o6 a 6air six-sided die and calculate the expected value and \n",
    "variance o6 the outcomes."
   ]
  },
  {
   "cell_type": "code",
   "execution_count": 51,
   "id": "5fcd2ab3-837d-483b-ac23-92122ec7ec2a",
   "metadata": {},
   "outputs": [
    {
     "name": "stdout",
     "output_type": "stream",
     "text": [
      "Simulated Outcomes (first 10): [2, 6, 6, 1, 4, 1, 5, 2, 1, 1]\n",
      "Expected Value: 3.5134\n",
      "Variance: 2.868820439999997\n"
     ]
    }
   ],
   "source": [
    "import random\n",
    "\n",
    "def simulate_die_rolls(num_rolls):\n",
    "    if num_rolls <= 0:\n",
    "        raise ValueError(\"The number of rolls must be positive.\")\n",
    "    \n",
    "    outcomes = [random.randint(1, 6) for _ in range(num_rolls)]\n",
    "    return outcomes\n",
    "\n",
    "def expected_value(outcomes):\n",
    "    return sum(outcomes) / len(outcomes)\n",
    "\n",
    "def variance(outcomes, mean):\n",
    "    return sum((x - mean) ** 2 for x in outcomes) / len(outcomes)\n",
    "\n",
    "def main():\n",
    "    num_rolls = 10000  # Number of die rolls for simulation\n",
    "    \n",
    "    outcomes = simulate_die_rolls(num_rolls)\n",
    "    \n",
    "    mean = expected_value(outcomes)\n",
    "    var = variance(outcomes, mean)\n",
    "    \n",
    "    print(f\"Simulated Outcomes (first 10): {outcomes[:10]}\")\n",
    "    print(f\"Expected Value: {mean}\")\n",
    "    print(f\"Variance: {var}\")\n",
    "\n",
    "if __name__ == \"__main__\":\n",
    "    main()\n"
   ]
  },
  {
   "cell_type": "markdown",
   "id": "49dbb53a-8429-42f1-b171-3189c65d2bae",
   "metadata": {},
   "source": [
    "Create a P\u001e",
    "thon 6unction to generate random samples 6rom a given probabilit\u001e",
    " distribution (e.g., \n",
    "binomial, Poisson) and calculate their mean and variance"
   ]
  },
  {
   "cell_type": "code",
   "execution_count": 52,
   "id": "0a847741-b47d-495f-9704-2a07a2b73329",
   "metadata": {},
   "outputs": [
    {
     "name": "stdout",
     "output_type": "stream",
     "text": [
      "Generated Samples (first 10): [3 7 5 5 3 7 2 2 1 6]\n",
      "Mean of Samples: 4.972\n",
      "Variance of Samples: 2.5472159999999997\n"
     ]
    }
   ],
   "source": [
    "import numpy as np\n",
    "\n",
    "def generate_samples(distribution, params, num_samples):\n",
    "    \"\"\"\n",
    "    Generate random samples from a specified probability distribution.\n",
    "    \n",
    "    Parameters:\n",
    "    - distribution (str): The type of distribution ('binomial' or 'poisson').\n",
    "    - params (tuple): Parameters for the distribution.\n",
    "        - For binomial: (n, p) where n is the number of trials and p is the probability of success.\n",
    "        - For poisson: (lambda) where lambda is the rate parameter.\n",
    "    - num_samples (int): Number of samples to generate.\n",
    "    \n",
    "    Returns:\n",
    "    - samples (ndarray): Array of generated samples.\n",
    "    \"\"\"\n",
    "    if distribution == 'binomial':\n",
    "        n, p = params\n",
    "        samples = np.random.binomial(n, p, num_samples)\n",
    "    elif distribution == 'poisson':\n",
    "        lam = params[0]\n",
    "        samples = np.random.poisson(lam, num_samples)\n",
    "    else:\n",
    "        raise ValueError(\"Unsupported distribution type. Choose 'binomial' or 'poisson'.\")\n",
    "    \n",
    "    return samples\n",
    "\n",
    "def calculate_mean(samples):\n",
    "    \"\"\"\n",
    "    Calculate the mean of the samples.\n",
    "    \n",
    "    Parameters:\n",
    "    - samples (ndarray): Array of samples.\n",
    "    \n",
    "    Returns:\n",
    "    - mean (float): The mean of the samples.\n",
    "    \"\"\"\n",
    "    return np.mean(samples)\n",
    "\n",
    "def calculate_variance(samples):\n",
    "    \"\"\"\n",
    "    Calculate the variance of the samples.\n",
    "    \n",
    "    Parameters:\n",
    "    - samples (ndarray): Array of samples.\n",
    "    \n",
    "    Returns:\n",
    "    - variance (float): The variance of the samples.\n",
    "    \"\"\"\n",
    "    return np.var(samples)\n",
    "\n",
    "def main():\n",
    "    distribution = 'binomial'  # Change to 'poisson' for Poisson distribution\n",
    "    num_samples = 1000\n",
    "    \n",
    "    if distribution == 'binomial':\n",
    "        params = (10, 0.5)  # Example parameters for binomial: n=10, p=0.5\n",
    "    elif distribution == 'poisson':\n",
    "        params = (5,)  # Example parameter for Poisson: lambda=5\n",
    "    \n",
    "    samples = generate_samples(distribution, params, num_samples)\n",
    "    \n",
    "    mean = calculate_mean(samples)\n",
    "    variance = calculate_variance(samples)\n",
    "    \n",
    "    print(f\"Generated Samples (first 10): {samples[:10]}\")\n",
    "    print(f\"Mean of Samples: {mean}\")\n",
    "    print(f\"Variance of Samples: {variance}\")\n",
    "\n",
    "if __name__ == \"__main__\":\n",
    "    main()\n"
   ]
  },
  {
   "cell_type": "markdown",
   "id": "685ea44c-f705-46d7-a933-226d14d25b30",
   "metadata": {},
   "source": [
    "}) Write a P\u001e",
    "thon script to generate random numbers 6rom a Gaussian (normal) distribution and compute \n",
    "the mean, variance, and standard deviation o6 the samples"
   ]
  },
  {
   "cell_type": "code",
   "execution_count": 56,
   "id": "ba301bfa-f1dd-4157-bc84-c585960c780a",
   "metadata": {},
   "outputs": [],
   "source": [
    "z=np.random.randn(20)"
   ]
  },
  {
   "cell_type": "code",
   "execution_count": 57,
   "id": "c26d63da-b6e8-484c-af69-888e97bb1504",
   "metadata": {},
   "outputs": [
    {
     "data": {
      "text/plain": [
       "array([ 0.43351129,  0.1487647 , -0.7505707 , -0.96489552,  0.69594541,\n",
       "       -0.14092917,  0.5368279 , -1.17877487, -1.15069644,  0.93191217,\n",
       "       -1.76398866,  0.78134815, -0.70577886, -0.115813  , -1.20044189,\n",
       "       -0.06129125,  0.55945627,  0.85335391,  1.24938934,  0.10227655])"
      ]
     },
     "execution_count": 57,
     "metadata": {},
     "output_type": "execute_result"
    }
   ],
   "source": [
    "z"
   ]
  },
  {
   "cell_type": "code",
   "execution_count": 58,
   "id": "0ee340d8-b715-4c3e-9ef7-e4ed7c7c628e",
   "metadata": {},
   "outputs": [
    {
     "data": {
      "text/plain": [
       "-0.08701973386361932"
      ]
     },
     "execution_count": 58,
     "metadata": {},
     "output_type": "execute_result"
    }
   ],
   "source": [
    "np.mean(z)"
   ]
  },
  {
   "cell_type": "code",
   "execution_count": 59,
   "id": "b1443847-9625-46ea-b897-fbc124829aa0",
   "metadata": {},
   "outputs": [
    {
     "data": {
      "text/plain": [
       "0.7109302627155816"
      ]
     },
     "execution_count": 59,
     "metadata": {},
     "output_type": "execute_result"
    }
   ],
   "source": [
    "np.var(z)"
   ]
  },
  {
   "cell_type": "code",
   "execution_count": 60,
   "id": "315fbd2b-ee73-4ade-925b-2cf9e4113d7f",
   "metadata": {},
   "outputs": [
    {
     "data": {
      "text/plain": [
       "0.8431668059853765"
      ]
     },
     "execution_count": 60,
     "metadata": {},
     "output_type": "execute_result"
    }
   ],
   "source": [
    "np.std(z)"
   ]
  },
  {
   "cell_type": "markdown",
   "id": "c6b1e78f-4e62-43b9-b18e-ac5668e2e5ab",
   "metadata": {},
   "source": [
    "\u0012) Use seaborn librar\u001e",
    " to load tips dataset. Find the 6ollowing 6rom the dataset 6or the columns total_bill \n",
    "and tip`:\n",
    "\n",
    "  \n",
    "\n",
    "  (\u0013) Wr\u0013te a Python funct\u0013on that calculates the\u0013r skewness.\n",
    "\n",
    "\n",
    "  (\u0013\u0013) Create a program that determ\u0013nes whether the columns exh\u0013b\u0013t pos\u0013t\u0013ve skewness, negat\u0013ve skewness, or \u0013s \n",
    "approx\u0013mately symmetr\u0013c.\n",
    "\n",
    "\n",
    "  (\u0013\u0013\u0013) Wr\u0013te a funct\u0013on that calculates the covar\u0013ance between two columns.\n",
    "\n",
    "\n",
    "  (\u0013v) Implement a Python program that calculates the Pearson correlat\u0013on coeff\u0013c\u0013ent between two columns.\n",
    "\n",
    "\n",
    "  (v) Wr\u0013te a scr\u0013pt to v\u0013sual\u0013ze the correlat\u0013on between two spec\u0013f\u0013c columns \u0013n a Pandas DataFrame us\u0013ng \n",
    "scatter plots."
   ]
  },
  {
   "cell_type": "code",
   "execution_count": 79,
   "id": "077a6b56-d5f6-4f11-8002-bc8e6ff2b740",
   "metadata": {},
   "outputs": [],
   "source": [
    "df=sns.load_dataset('tips')"
   ]
  },
  {
   "cell_type": "code",
   "execution_count": 80,
   "id": "9b515708-a542-4588-bc5a-f68793beba1d",
   "metadata": {},
   "outputs": [
    {
     "data": {
      "text/html": [
       "<div>\n",
       "<style scoped>\n",
       "    .dataframe tbody tr th:only-of-type {\n",
       "        vertical-align: middle;\n",
       "    }\n",
       "\n",
       "    .dataframe tbody tr th {\n",
       "        vertical-align: top;\n",
       "    }\n",
       "\n",
       "    .dataframe thead th {\n",
       "        text-align: right;\n",
       "    }\n",
       "</style>\n",
       "<table border=\"1\" class=\"dataframe\">\n",
       "  <thead>\n",
       "    <tr style=\"text-align: right;\">\n",
       "      <th></th>\n",
       "      <th>total_bill</th>\n",
       "      <th>tip</th>\n",
       "      <th>sex</th>\n",
       "      <th>smoker</th>\n",
       "      <th>day</th>\n",
       "      <th>time</th>\n",
       "      <th>size</th>\n",
       "    </tr>\n",
       "  </thead>\n",
       "  <tbody>\n",
       "    <tr>\n",
       "      <th>0</th>\n",
       "      <td>16.99</td>\n",
       "      <td>1.01</td>\n",
       "      <td>Female</td>\n",
       "      <td>No</td>\n",
       "      <td>Sun</td>\n",
       "      <td>Dinner</td>\n",
       "      <td>2</td>\n",
       "    </tr>\n",
       "    <tr>\n",
       "      <th>1</th>\n",
       "      <td>10.34</td>\n",
       "      <td>1.66</td>\n",
       "      <td>Male</td>\n",
       "      <td>No</td>\n",
       "      <td>Sun</td>\n",
       "      <td>Dinner</td>\n",
       "      <td>3</td>\n",
       "    </tr>\n",
       "    <tr>\n",
       "      <th>2</th>\n",
       "      <td>21.01</td>\n",
       "      <td>3.50</td>\n",
       "      <td>Male</td>\n",
       "      <td>No</td>\n",
       "      <td>Sun</td>\n",
       "      <td>Dinner</td>\n",
       "      <td>3</td>\n",
       "    </tr>\n",
       "    <tr>\n",
       "      <th>3</th>\n",
       "      <td>23.68</td>\n",
       "      <td>3.31</td>\n",
       "      <td>Male</td>\n",
       "      <td>No</td>\n",
       "      <td>Sun</td>\n",
       "      <td>Dinner</td>\n",
       "      <td>2</td>\n",
       "    </tr>\n",
       "    <tr>\n",
       "      <th>4</th>\n",
       "      <td>24.59</td>\n",
       "      <td>3.61</td>\n",
       "      <td>Female</td>\n",
       "      <td>No</td>\n",
       "      <td>Sun</td>\n",
       "      <td>Dinner</td>\n",
       "      <td>4</td>\n",
       "    </tr>\n",
       "  </tbody>\n",
       "</table>\n",
       "</div>"
      ],
      "text/plain": [
       "   total_bill   tip     sex smoker  day    time  size\n",
       "0       16.99  1.01  Female     No  Sun  Dinner     2\n",
       "1       10.34  1.66    Male     No  Sun  Dinner     3\n",
       "2       21.01  3.50    Male     No  Sun  Dinner     3\n",
       "3       23.68  3.31    Male     No  Sun  Dinner     2\n",
       "4       24.59  3.61  Female     No  Sun  Dinner     4"
      ]
     },
     "execution_count": 80,
     "metadata": {},
     "output_type": "execute_result"
    }
   ],
   "source": [
    "df.head()"
   ]
  },
  {
   "cell_type": "code",
   "execution_count": 64,
   "id": "8b2ac8e3-31b2-4759-aba9-86a309c82794",
   "metadata": {},
   "outputs": [],
   "source": [
    "skewness=df['total_bill'].skew()"
   ]
  },
  {
   "cell_type": "code",
   "execution_count": 65,
   "id": "2771c0b8-dcec-4ae1-8096-a1633c50cae1",
   "metadata": {},
   "outputs": [
    {
     "data": {
      "text/plain": [
       "1.1332130376158205"
      ]
     },
     "execution_count": 65,
     "metadata": {},
     "output_type": "execute_result"
    }
   ],
   "source": [
    "skewness"
   ]
  },
  {
   "cell_type": "code",
   "execution_count": 70,
   "id": "efb1f58b-089c-4181-862f-cb9cb54fe8db",
   "metadata": {},
   "outputs": [],
   "source": [
    "def skewness(col):\n",
    "    skewness=df[col].skew()\n",
    "    \n",
    "    \n",
    "    z=sns.histplot(x=col,data=df)\n",
    "\n",
    "    if skewness>0:\n",
    "        print('data is positively skewed or right skewed')\n",
    "    elif skewness<0:\n",
    "        print('data is negatively skewed or left skewed')\n",
    "    else:\n",
    "        print('data is symmetric')\n",
    "    return skewness,z\n"
   ]
  },
  {
   "cell_type": "code",
   "execution_count": 69,
   "id": "fef90c08-b278-4488-b4c6-f77667c8cc3f",
   "metadata": {},
   "outputs": [
    {
     "name": "stdout",
     "output_type": "stream",
     "text": [
      "data is positively skewed or right skewed\n"
     ]
    },
    {
     "name": "stderr",
     "output_type": "stream",
     "text": [
      "C:\\Users\\madhu\\anaconda3\\Lib\\site-packages\\seaborn\\_oldcore.py:1119: FutureWarning: use_inf_as_na option is deprecated and will be removed in a future version. Convert inf values to NaN before operating instead.\n",
      "  with pd.option_context('mode.use_inf_as_na', True):\n"
     ]
    },
    {
     "data": {
      "text/plain": [
       "(1.1332130376158205, <Axes: xlabel='total_bill', ylabel='Count'>)"
      ]
     },
     "execution_count": 69,
     "metadata": {},
     "output_type": "execute_result"
    },
    {
     "data": {
      "image/png": "[encoded data removed]",
      "text/plain": [
       "<Figure size 640x480 with 1 Axes>"
      ]
     },
     "metadata": {},
     "output_type": "display_data"
    }
   ],
   "source": [
    "skewness('total_bill')"
   ]
  },
  {
   "cell_type": "code",
   "execution_count": 71,
   "id": "f21e9e7d-325b-4202-bad7-022bc3d9624b",
   "metadata": {},
   "outputs": [
    {
     "name": "stdout",
     "output_type": "stream",
     "text": [
      "data is positively skewed or right skewed\n"
     ]
    },
    {
     "name": "stderr",
     "output_type": "stream",
     "text": [
      "C:\\Users\\madhu\\anaconda3\\Lib\\site-packages\\seaborn\\_oldcore.py:1119: FutureWarning: use_inf_as_na option is deprecated and will be removed in a future version. Convert inf values to NaN before operating instead.\n",
      "  with pd.option_context('mode.use_inf_as_na', True):\n"
     ]
    },
    {
     "data": {
      "text/plain": [
       "(1.4654510370979401, <Axes: xlabel='tip', ylabel='Count'>)"
      ]
     },
     "execution_count": 71,
     "metadata": {},
     "output_type": "execute_result"
    },
    {
     "data": {
      "image/png": "[encoded data removed]",
      "text/plain": [
       "<Figure size 640x480 with 1 Axes>"
      ]
     },
     "metadata": {},
     "output_type": "display_data"
    }
   ],
   "source": [
    "skewness('tip')"
   ]
  },
  {
   "cell_type": "code",
   "execution_count": 84,
   "id": "bbc5902f-ba33-44be-9f3b-30f18ab6434a",
   "metadata": {},
   "outputs": [],
   "source": [
    "cov=np.cov(df['total_bill'],df['tip'])"
   ]
  },
  {
   "cell_type": "code",
   "execution_count": 85,
   "id": "fa3feb3b-9afe-42ba-a104-2dbae8031b1d",
   "metadata": {},
   "outputs": [
    {
     "data": {
      "text/plain": [
       "array([[79.25293861,  8.32350163],\n",
       "       [ 8.32350163,  1.91445464]])"
      ]
     },
     "execution_count": 85,
     "metadata": {},
     "output_type": "execute_result"
    }
   ],
   "source": [
    "cov"
   ]
  },
  {
   "cell_type": "code",
   "execution_count": 86,
   "id": "e68e7da2-3866-453f-890f-b0fd2226c41d",
   "metadata": {},
   "outputs": [
    {
     "data": {
      "text/html": [
       "<div>\n",
       "<style scoped>\n",
       "    .dataframe tbody tr th:only-of-type {\n",
       "        vertical-align: middle;\n",
       "    }\n",
       "\n",
       "    .dataframe tbody tr th {\n",
       "        vertical-align: top;\n",
       "    }\n",
       "\n",
       "    .dataframe thead th {\n",
       "        text-align: right;\n",
       "    }\n",
       "</style>\n",
       "<table border=\"1\" class=\"dataframe\">\n",
       "  <thead>\n",
       "    <tr style=\"text-align: right;\">\n",
       "      <th></th>\n",
       "      <th>total_bill</th>\n",
       "      <th>tip</th>\n",
       "    </tr>\n",
       "  </thead>\n",
       "  <tbody>\n",
       "    <tr>\n",
       "      <th>total_bill</th>\n",
       "      <td>1.000000</td>\n",
       "      <td>0.675734</td>\n",
       "    </tr>\n",
       "    <tr>\n",
       "      <th>tip</th>\n",
       "      <td>0.675734</td>\n",
       "      <td>1.000000</td>\n",
       "    </tr>\n",
       "  </tbody>\n",
       "</table>\n",
       "</div>"
      ],
      "text/plain": [
       "            total_bill       tip\n",
       "total_bill    1.000000  0.675734\n",
       "tip           0.675734  1.000000"
      ]
     },
     "execution_count": 86,
     "metadata": {},
     "output_type": "execute_result"
    }
   ],
   "source": [
    "df[['total_bill','tip']].corr()"
   ]
  },
  {
   "cell_type": "code",
   "execution_count": 87,
   "id": "a6148ab8-ec26-4c6f-ae6f-aa676c220815",
   "metadata": {},
   "outputs": [
    {
     "data": {
      "text/plain": [
       "<Axes: xlabel='total_bill', ylabel='tip'>"
      ]
     },
     "execution_count": 87,
     "metadata": {},
     "output_type": "execute_result"
    },
    {
     "data": {
      "image/png": "[encoded data removed]",
      "text/plain": [
       "<Figure size 640x480 with 1 Axes>"
      ]
     },
     "metadata": {},
     "output_type": "display_data"
    }
   ],
   "source": [
    "sns.scatterplot(data=df,x='total_bill',y='tip')"
   ]
  },
  {
   "cell_type": "markdown",
   "id": "ff590e29-b738-414a-885f-b31e1da64e1d",
   "metadata": {},
   "source": [
    "Write a P\u001e",
    "thon 6unction to calculate the probabilit\u001e",
    " densit\u001e",
    " 6unction (PDF) o6 a continuous random \n",
    "variable 6or a given normal distribution"
   ]
  },
  {
   "cell_type": "code",
   "execution_count": 88,
   "id": "7a1220f7-890a-416f-8e62-0128ed983fb4",
   "metadata": {},
   "outputs": [
    {
     "name": "stdout",
     "output_type": "stream",
     "text": [
      "PDF at x = 0: 0.3989422804014327\n",
      "PDF at x = 1: 0.24197072451914337\n",
      "PDF at x = 2: 0.05399096651318806\n",
      "PDF at x = 3: 0.0044318484119380075\n"
     ]
    }
   ],
   "source": [
    "from scipy.stats import norm\n",
    "\n",
    "def calculate_pdf_normal(x, mean=0, std_dev=1):\n",
    "    \"\"\"\n",
    "    Calculate the Probability Density Function (PDF) for a normal distribution.\n",
    "    \n",
    "    Parameters:\n",
    "    - x (float or array-like): The value or values at which to evaluate the PDF.\n",
    "    - mean (float): The mean of the normal distribution. Default is 0.\n",
    "    - std_dev (float): The standard deviation of the normal distribution. Default is 1.\n",
    "    \n",
    "    Returns:\n",
    "    - pdf (float or ndarray): The PDF values for the given x.\n",
    "    \"\"\"\n",
    "    # Calculate the PDF\n",
    "    pdf = norm.pdf(x, loc=mean, scale=std_dev)\n",
    "    return pdf\n",
    "\n",
    "# Example usage\n",
    "if __name__ == \"__main__\":\n",
    "    x_values = [0, 1, 2, 3]  # Example values\n",
    "    mean = 0\n",
    "    std_dev = 1\n",
    "    \n",
    "    pdf_values = calculate_pdf_normal(x_values, mean, std_dev)\n",
    "    for x, pdf in zip(x_values, pdf_values):\n",
    "        print(f\"PDF at x = {x}: {pdf}\")\n"
   ]
  },
  {
   "cell_type": "markdown",
   "id": "9b4da4eb-edd6-47e9-8349-4d43af661e09",
   "metadata": {},
   "source": [
    "¸) Create a program to calculate the cumulative distribution 6unction (CDF) o6 exponential distributio"
   ]
  },
  {
   "cell_type": "code",
   "execution_count": 89,
   "id": "15f4f8ba-60fb-4ca9-8bc8-0369a15fee8c",
   "metadata": {},
   "outputs": [
    {
     "name": "stdout",
     "output_type": "stream",
     "text": [
      "CDF at x = 0.5: 0.3934693402873666\n",
      "CDF at x = 1: 0.6321205588285577\n",
      "CDF at x = 2: 0.8646647167633873\n",
      "CDF at x = 3: 0.950212931632136\n"
     ]
    }
   ],
   "source": [
    "from scipy.stats import expon\n",
    "\n",
    "def calculate_cdf_exponential(x, scale=1):\n",
    "    \"\"\"\n",
    "    Calculate the Cumulative Distribution Function (CDF) for an exponential distribution.\n",
    "    \n",
    "    Parameters:\n",
    "    - x (float or array-like): The value or values at which to evaluate the CDF.\n",
    "    - scale (float): The scale parameter (inverse of the rate parameter). Default is 1.\n",
    "    \n",
    "    Returns:\n",
    "    - cdf (float or ndarray): The CDF values for the given x.\n",
    "    \"\"\"\n",
    "    # Calculate the CDF\n",
    "    cdf = expon.cdf(x, scale=scale)\n",
    "    return cdf\n",
    "\n",
    "# Example usage\n",
    "if __name__ == \"__main__\":\n",
    "    x_values = [0.5, 1, 2, 3]  # Example values\n",
    "    scale = 1  # Default scale parameter (rate parameter is 1/scale)\n",
    "    \n",
    "    cdf_values = calculate_cdf_exponential(x_values, scale)\n",
    "    for x, cdf in zip(x_values, cdf_values):\n",
    "        print(f\"CDF at x = {x}: {cdf}\")\n"
   ]
  },
  {
   "cell_type": "markdown",
   "id": "23966d47-9721-4f9c-bcc1-d61e359efceb",
   "metadata": {},
   "source": [
    "ÕÐ) Write a P\u001e",
    "thon 6unction to calculate the probabilit\u001e",
    " mass 6unction (PMF) o6 Poisson distribution"
   ]
  },
  {
   "cell_type": "code",
   "execution_count": 90,
   "id": "671a053f-7463-4f89-88b5-a8f44843bd53",
   "metadata": {},
   "outputs": [
    {
     "name": "stdout",
     "output_type": "stream",
     "text": [
      "PMF at k = 0: 0.049787068367863944\n",
      "PMF at k = 1: 0.14936120510359185\n",
      "PMF at k = 2: 0.22404180765538775\n",
      "PMF at k = 3: 0.22404180765538775\n",
      "PMF at k = 4: 0.16803135574154085\n"
     ]
    }
   ],
   "source": [
    "from scipy.stats import poisson\n",
    "\n",
    "def calculate_pmf_poisson(k, mu):\n",
    "    \"\"\"\n",
    "    Calculate the Probability Mass Function (PMF) for a Poisson distribution.\n",
    "    \n",
    "    Parameters:\n",
    "    - k (int or array-like): The value or values at which to evaluate the PMF.\n",
    "    - mu (float): The average rate (mean) of occurrences. Must be positive.\n",
    "    \n",
    "    Returns:\n",
    "    - pmf (float or ndarray): The PMF values for the given k.\n",
    "    \"\"\"\n",
    "    if mu <= 0:\n",
    "        raise ValueError(\"The mean (mu) must be positive.\")\n",
    "    \n",
    "    # Calculate the PMF\n",
    "    pmf = poisson.pmf(k, mu)\n",
    "    return pmf\n",
    "\n",
    "# Example usage\n",
    "if __name__ == \"__main__\":\n",
    "    k_values = [0, 1, 2, 3, 4]  # Example values\n",
    "    mu = 3  # Average rate (mean) of occurrences\n",
    "    \n",
    "    pmf_values = calculate_pmf_poisson(k_values, mu)\n",
    "    for k, pmf in zip(k_values, pmf_values):\n",
    "        print(f\"PMF at k = {k}: {pmf}\")\n"
   ]
  },
  {
   "cell_type": "markdown",
   "id": "dbce1f10-fd0d-44b5-802f-9aec1cf2a022",
   "metadata": {},
   "source": [
    ";;M A company wants to test iN a new website layout leads to a higher conversion rate (percentage oN visitors \n",
    "who make a purchase). They collect data Nrom the old and new layouts to compare.\n",
    "\n",
    "\n",
    "To ge<erate the data use the followi<g comma<d:\n",
    "\n",
    "```python\n",
    "\n",
    "import <umpy as <p\n",
    "\n",
    "# 50 purchases out of 1000 visitors\n",
    "\n",
    "old_layout = <p.array([1] * 50 + [0] * 950)\n",
    "\n",
    "# 70 purchases out of 1000 visitors  \n",
    "\n",
    "<ew_layout = <p.array([1] * 70 + [0] * 930)\n",
    "\n",
    "  ```\n",
    "\n",
    "Apply z-test to fi<d which layout is successful"
   ]
  },
  {
   "cell_type": "code",
   "execution_count": 91,
   "id": "b15c6055-f761-48c1-9bd4-c2d8dfe1bbb5",
   "metadata": {},
   "outputs": [],
   "source": [
    "import numpy as np\n",
    "\n",
    "# 50 purchases out of 1000 visitors\n",
    "\n",
    "old_layout = np.array([1] * 50 + [0] * 950)\n",
    "\n",
    "# 70 purchases out of 1000 visitors  \n",
    "\n",
    "new_layout = np.array([1] * 70 + [0] * 930)"
   ]
  },
  {
   "cell_type": "code",
   "execution_count": 92,
   "id": "b9878db9-a1f1-4cec-a340-2d990b057470",
   "metadata": {},
   "outputs": [
    {
     "data": {
      "text/plain": [
       "array([1, 1, 1, 1, 1, 1, 1, 1, 1, 1, 1, 1, 1, 1, 1, 1, 1, 1, 1, 1, 1, 1,\n",
       "       1, 1, 1, 1, 1, 1, 1, 1, 1, 1, 1, 1, 1, 1, 1, 1, 1, 1, 1, 1, 1, 1,\n",
       "       1, 1, 1, 1, 1, 1, 0, 0, 0, 0, 0, 0, 0, 0, 0, 0, 0, 0, 0, 0, 0, 0,\n",
       "       0, 0, 0, 0, 0, 0, 0, 0, 0, 0, 0, 0, 0, 0, 0, 0, 0, 0, 0, 0, 0, 0,\n",
       "       0, 0, 0, 0, 0, 0, 0, 0, 0, 0, 0, 0, 0, 0, 0, 0, 0, 0, 0, 0, 0, 0,\n",
       "       0, 0, 0, 0, 0, 0, 0, 0, 0, 0, 0, 0, 0, 0, 0, 0, 0, 0, 0, 0, 0, 0,\n",
       "       0, 0, 0, 0, 0, 0, 0, 0, 0, 0, 0, 0, 0, 0, 0, 0, 0, 0, 0, 0, 0, 0,\n",
       "       0, 0, 0, 0, 0, 0, 0, 0, 0, 0, 0, 0, 0, 0, 0, 0, 0, 0, 0, 0, 0, 0,\n",
       "       0, 0, 0, 0, 0, 0, 0, 0, 0, 0, 0, 0, 0, 0, 0, 0, 0, 0, 0, 0, 0, 0,\n",
       "       0, 0, 0, 0, 0, 0, 0, 0, 0, 0, 0, 0, 0, 0, 0, 0, 0, 0, 0, 0, 0, 0,\n",
       "       0, 0, 0, 0, 0, 0, 0, 0, 0, 0, 0, 0, 0, 0, 0, 0, 0, 0, 0, 0, 0, 0,\n",
       "       0, 0, 0, 0, 0, 0, 0, 0, 0, 0, 0, 0, 0, 0, 0, 0, 0, 0, 0, 0, 0, 0,\n",
       "       0, 0, 0, 0, 0, 0, 0, 0, 0, 0, 0, 0, 0, 0, 0, 0, 0, 0, 0, 0, 0, 0,\n",
       "       0, 0, 0, 0, 0, 0, 0, 0, 0, 0, 0, 0, 0, 0, 0, 0, 0, 0, 0, 0, 0, 0,\n",
       "       0, 0, 0, 0, 0, 0, 0, 0, 0, 0, 0, 0, 0, 0, 0, 0, 0, 0, 0, 0, 0, 0,\n",
       "       0, 0, 0, 0, 0, 0, 0, 0, 0, 0, 0, 0, 0, 0, 0, 0, 0, 0, 0, 0, 0, 0,\n",
       "       0, 0, 0, 0, 0, 0, 0, 0, 0, 0, 0, 0, 0, 0, 0, 0, 0, 0, 0, 0, 0, 0,\n",
       "       0, 0, 0, 0, 0, 0, 0, 0, 0, 0, 0, 0, 0, 0, 0, 0, 0, 0, 0, 0, 0, 0,\n",
       "       0, 0, 0, 0, 0, 0, 0, 0, 0, 0, 0, 0, 0, 0, 0, 0, 0, 0, 0, 0, 0, 0,\n",
       "       0, 0, 0, 0, 0, 0, 0, 0, 0, 0, 0, 0, 0, 0, 0, 0, 0, 0, 0, 0, 0, 0,\n",
       "       0, 0, 0, 0, 0, 0, 0, 0, 0, 0, 0, 0, 0, 0, 0, 0, 0, 0, 0, 0, 0, 0,\n",
       "       0, 0, 0, 0, 0, 0, 0, 0, 0, 0, 0, 0, 0, 0, 0, 0, 0, 0, 0, 0, 0, 0,\n",
       "       0, 0, 0, 0, 0, 0, 0, 0, 0, 0, 0, 0, 0, 0, 0, 0, 0, 0, 0, 0, 0, 0,\n",
       "       0, 0, 0, 0, 0, 0, 0, 0, 0, 0, 0, 0, 0, 0, 0, 0, 0, 0, 0, 0, 0, 0,\n",
       "       0, 0, 0, 0, 0, 0, 0, 0, 0, 0, 0, 0, 0, 0, 0, 0, 0, 0, 0, 0, 0, 0,\n",
       "       0, 0, 0, 0, 0, 0, 0, 0, 0, 0, 0, 0, 0, 0, 0, 0, 0, 0, 0, 0, 0, 0,\n",
       "       0, 0, 0, 0, 0, 0, 0, 0, 0, 0, 0, 0, 0, 0, 0, 0, 0, 0, 0, 0, 0, 0,\n",
       "       0, 0, 0, 0, 0, 0, 0, 0, 0, 0, 0, 0, 0, 0, 0, 0, 0, 0, 0, 0, 0, 0,\n",
       "       0, 0, 0, 0, 0, 0, 0, 0, 0, 0, 0, 0, 0, 0, 0, 0, 0, 0, 0, 0, 0, 0,\n",
       "       0, 0, 0, 0, 0, 0, 0, 0, 0, 0, 0, 0, 0, 0, 0, 0, 0, 0, 0, 0, 0, 0,\n",
       "       0, 0, 0, 0, 0, 0, 0, 0, 0, 0, 0, 0, 0, 0, 0, 0, 0, 0, 0, 0, 0, 0,\n",
       "       0, 0, 0, 0, 0, 0, 0, 0, 0, 0, 0, 0, 0, 0, 0, 0, 0, 0, 0, 0, 0, 0,\n",
       "       0, 0, 0, 0, 0, 0, 0, 0, 0, 0, 0, 0, 0, 0, 0, 0, 0, 0, 0, 0, 0, 0,\n",
       "       0, 0, 0, 0, 0, 0, 0, 0, 0, 0, 0, 0, 0, 0, 0, 0, 0, 0, 0, 0, 0, 0,\n",
       "       0, 0, 0, 0, 0, 0, 0, 0, 0, 0, 0, 0, 0, 0, 0, 0, 0, 0, 0, 0, 0, 0,\n",
       "       0, 0, 0, 0, 0, 0, 0, 0, 0, 0, 0, 0, 0, 0, 0, 0, 0, 0, 0, 0, 0, 0,\n",
       "       0, 0, 0, 0, 0, 0, 0, 0, 0, 0, 0, 0, 0, 0, 0, 0, 0, 0, 0, 0, 0, 0,\n",
       "       0, 0, 0, 0, 0, 0, 0, 0, 0, 0, 0, 0, 0, 0, 0, 0, 0, 0, 0, 0, 0, 0,\n",
       "       0, 0, 0, 0, 0, 0, 0, 0, 0, 0, 0, 0, 0, 0, 0, 0, 0, 0, 0, 0, 0, 0,\n",
       "       0, 0, 0, 0, 0, 0, 0, 0, 0, 0, 0, 0, 0, 0, 0, 0, 0, 0, 0, 0, 0, 0,\n",
       "       0, 0, 0, 0, 0, 0, 0, 0, 0, 0, 0, 0, 0, 0, 0, 0, 0, 0, 0, 0, 0, 0,\n",
       "       0, 0, 0, 0, 0, 0, 0, 0, 0, 0, 0, 0, 0, 0, 0, 0, 0, 0, 0, 0, 0, 0,\n",
       "       0, 0, 0, 0, 0, 0, 0, 0, 0, 0, 0, 0, 0, 0, 0, 0, 0, 0, 0, 0, 0, 0,\n",
       "       0, 0, 0, 0, 0, 0, 0, 0, 0, 0, 0, 0, 0, 0, 0, 0, 0, 0, 0, 0, 0, 0,\n",
       "       0, 0, 0, 0, 0, 0, 0, 0, 0, 0, 0, 0, 0, 0, 0, 0, 0, 0, 0, 0, 0, 0,\n",
       "       0, 0, 0, 0, 0, 0, 0, 0, 0, 0])"
      ]
     },
     "execution_count": 92,
     "metadata": {},
     "output_type": "execute_result"
    }
   ],
   "source": [
    "old_layout"
   ]
  },
  {
   "cell_type": "code",
   "execution_count": 93,
   "id": "2df95690-49b8-42b7-bb0b-d9393611a2cd",
   "metadata": {},
   "outputs": [
    {
     "data": {
      "text/plain": [
       "array([1, 1, 1, 1, 1, 1, 1, 1, 1, 1, 1, 1, 1, 1, 1, 1, 1, 1, 1, 1, 1, 1,\n",
       "       1, 1, 1, 1, 1, 1, 1, 1, 1, 1, 1, 1, 1, 1, 1, 1, 1, 1, 1, 1, 1, 1,\n",
       "       1, 1, 1, 1, 1, 1, 1, 1, 1, 1, 1, 1, 1, 1, 1, 1, 1, 1, 1, 1, 1, 1,\n",
       "       1, 1, 1, 1, 0, 0, 0, 0, 0, 0, 0, 0, 0, 0, 0, 0, 0, 0, 0, 0, 0, 0,\n",
       "       0, 0, 0, 0, 0, 0, 0, 0, 0, 0, 0, 0, 0, 0, 0, 0, 0, 0, 0, 0, 0, 0,\n",
       "       0, 0, 0, 0, 0, 0, 0, 0, 0, 0, 0, 0, 0, 0, 0, 0, 0, 0, 0, 0, 0, 0,\n",
       "       0, 0, 0, 0, 0, 0, 0, 0, 0, 0, 0, 0, 0, 0, 0, 0, 0, 0, 0, 0, 0, 0,\n",
       "       0, 0, 0, 0, 0, 0, 0, 0, 0, 0, 0, 0, 0, 0, 0, 0, 0, 0, 0, 0, 0, 0,\n",
       "       0, 0, 0, 0, 0, 0, 0, 0, 0, 0, 0, 0, 0, 0, 0, 0, 0, 0, 0, 0, 0, 0,\n",
       "       0, 0, 0, 0, 0, 0, 0, 0, 0, 0, 0, 0, 0, 0, 0, 0, 0, 0, 0, 0, 0, 0,\n",
       "       0, 0, 0, 0, 0, 0, 0, 0, 0, 0, 0, 0, 0, 0, 0, 0, 0, 0, 0, 0, 0, 0,\n",
       "       0, 0, 0, 0, 0, 0, 0, 0, 0, 0, 0, 0, 0, 0, 0, 0, 0, 0, 0, 0, 0, 0,\n",
       "       0, 0, 0, 0, 0, 0, 0, 0, 0, 0, 0, 0, 0, 0, 0, 0, 0, 0, 0, 0, 0, 0,\n",
       "       0, 0, 0, 0, 0, 0, 0, 0, 0, 0, 0, 0, 0, 0, 0, 0, 0, 0, 0, 0, 0, 0,\n",
       "       0, 0, 0, 0, 0, 0, 0, 0, 0, 0, 0, 0, 0, 0, 0, 0, 0, 0, 0, 0, 0, 0,\n",
       "       0, 0, 0, 0, 0, 0, 0, 0, 0, 0, 0, 0, 0, 0, 0, 0, 0, 0, 0, 0, 0, 0,\n",
       "       0, 0, 0, 0, 0, 0, 0, 0, 0, 0, 0, 0, 0, 0, 0, 0, 0, 0, 0, 0, 0, 0,\n",
       "       0, 0, 0, 0, 0, 0, 0, 0, 0, 0, 0, 0, 0, 0, 0, 0, 0, 0, 0, 0, 0, 0,\n",
       "       0, 0, 0, 0, 0, 0, 0, 0, 0, 0, 0, 0, 0, 0, 0, 0, 0, 0, 0, 0, 0, 0,\n",
       "       0, 0, 0, 0, 0, 0, 0, 0, 0, 0, 0, 0, 0, 0, 0, 0, 0, 0, 0, 0, 0, 0,\n",
       "       0, 0, 0, 0, 0, 0, 0, 0, 0, 0, 0, 0, 0, 0, 0, 0, 0, 0, 0, 0, 0, 0,\n",
       "       0, 0, 0, 0, 0, 0, 0, 0, 0, 0, 0, 0, 0, 0, 0, 0, 0, 0, 0, 0, 0, 0,\n",
       "       0, 0, 0, 0, 0, 0, 0, 0, 0, 0, 0, 0, 0, 0, 0, 0, 0, 0, 0, 0, 0, 0,\n",
       "       0, 0, 0, 0, 0, 0, 0, 0, 0, 0, 0, 0, 0, 0, 0, 0, 0, 0, 0, 0, 0, 0,\n",
       "       0, 0, 0, 0, 0, 0, 0, 0, 0, 0, 0, 0, 0, 0, 0, 0, 0, 0, 0, 0, 0, 0,\n",
       "       0, 0, 0, 0, 0, 0, 0, 0, 0, 0, 0, 0, 0, 0, 0, 0, 0, 0, 0, 0, 0, 0,\n",
       "       0, 0, 0, 0, 0, 0, 0, 0, 0, 0, 0, 0, 0, 0, 0, 0, 0, 0, 0, 0, 0, 0,\n",
       "       0, 0, 0, 0, 0, 0, 0, 0, 0, 0, 0, 0, 0, 0, 0, 0, 0, 0, 0, 0, 0, 0,\n",
       "       0, 0, 0, 0, 0, 0, 0, 0, 0, 0, 0, 0, 0, 0, 0, 0, 0, 0, 0, 0, 0, 0,\n",
       "       0, 0, 0, 0, 0, 0, 0, 0, 0, 0, 0, 0, 0, 0, 0, 0, 0, 0, 0, 0, 0, 0,\n",
       "       0, 0, 0, 0, 0, 0, 0, 0, 0, 0, 0, 0, 0, 0, 0, 0, 0, 0, 0, 0, 0, 0,\n",
       "       0, 0, 0, 0, 0, 0, 0, 0, 0, 0, 0, 0, 0, 0, 0, 0, 0, 0, 0, 0, 0, 0,\n",
       "       0, 0, 0, 0, 0, 0, 0, 0, 0, 0, 0, 0, 0, 0, 0, 0, 0, 0, 0, 0, 0, 0,\n",
       "       0, 0, 0, 0, 0, 0, 0, 0, 0, 0, 0, 0, 0, 0, 0, 0, 0, 0, 0, 0, 0, 0,\n",
       "       0, 0, 0, 0, 0, 0, 0, 0, 0, 0, 0, 0, 0, 0, 0, 0, 0, 0, 0, 0, 0, 0,\n",
       "       0, 0, 0, 0, 0, 0, 0, 0, 0, 0, 0, 0, 0, 0, 0, 0, 0, 0, 0, 0, 0, 0,\n",
       "       0, 0, 0, 0, 0, 0, 0, 0, 0, 0, 0, 0, 0, 0, 0, 0, 0, 0, 0, 0, 0, 0,\n",
       "       0, 0, 0, 0, 0, 0, 0, 0, 0, 0, 0, 0, 0, 0, 0, 0, 0, 0, 0, 0, 0, 0,\n",
       "       0, 0, 0, 0, 0, 0, 0, 0, 0, 0, 0, 0, 0, 0, 0, 0, 0, 0, 0, 0, 0, 0,\n",
       "       0, 0, 0, 0, 0, 0, 0, 0, 0, 0, 0, 0, 0, 0, 0, 0, 0, 0, 0, 0, 0, 0,\n",
       "       0, 0, 0, 0, 0, 0, 0, 0, 0, 0, 0, 0, 0, 0, 0, 0, 0, 0, 0, 0, 0, 0,\n",
       "       0, 0, 0, 0, 0, 0, 0, 0, 0, 0, 0, 0, 0, 0, 0, 0, 0, 0, 0, 0, 0, 0,\n",
       "       0, 0, 0, 0, 0, 0, 0, 0, 0, 0, 0, 0, 0, 0, 0, 0, 0, 0, 0, 0, 0, 0,\n",
       "       0, 0, 0, 0, 0, 0, 0, 0, 0, 0, 0, 0, 0, 0, 0, 0, 0, 0, 0, 0, 0, 0,\n",
       "       0, 0, 0, 0, 0, 0, 0, 0, 0, 0, 0, 0, 0, 0, 0, 0, 0, 0, 0, 0, 0, 0,\n",
       "       0, 0, 0, 0, 0, 0, 0, 0, 0, 0])"
      ]
     },
     "execution_count": 93,
     "metadata": {},
     "output_type": "execute_result"
    }
   ],
   "source": [
    "new_layout"
   ]
  },
  {
   "cell_type": "code",
   "execution_count": 94,
   "id": "daf68416-56b9-4a47-8055-c6ef44e77d51",
   "metadata": {},
   "outputs": [
    {
     "name": "stdout",
     "output_type": "stream",
     "text": [
      "Old Layout Conversion Rate: 0.0500\n",
      "New Layout Conversion Rate: 0.0700\n",
      "Z-Score: -1.8831\n",
      "P-Value: 0.0597\n",
      "The difference in conversion rates is not statistically significant.\n"
     ]
    }
   ],
   "source": [
    "import numpy as np\n",
    "from scipy import stats\n",
    "\n",
    "def z_test_proportions(old_layout, new_layout):\n",
    "    # Calculate the number of successes and sample sizes\n",
    "    p1_successes = np.sum(old_layout)\n",
    "    p1_n = len(old_layout)\n",
    "    \n",
    "    p2_successes = np.sum(new_layout)\n",
    "    p2_n = len(new_layout)\n",
    "    \n",
    "    # Calculate the conversion rates\n",
    "    p1 = p1_successes / p1_n\n",
    "    p2 = p2_successes / p2_n\n",
    "    \n",
    "    # Calculate the combined proportion\n",
    "    p_combined = (p1_successes + p2_successes) / (p1_n + p2_n)\n",
    "    \n",
    "    # Calculate the standard error\n",
    "    se = np.sqrt(p_combined * (1 - p_combined) * (1 / p1_n + 1 / p2_n))\n",
    "    \n",
    "    # Calculate the Z-score\n",
    "    z = (p1 - p2) / se\n",
    "    \n",
    "    # Calculate the p-value\n",
    "    p_value = 2 * (1 - stats.norm.cdf(abs(z)))\n",
    "    \n",
    "    return z, p_value, p1, p2\n",
    "\n",
    "# Generate the data\n",
    "old_layout = np.array([1] * 50 + [0] * 950)\n",
    "new_layout = np.array([1] * 70 + [0] * 930)\n",
    "\n",
    "# Perform the z-test\n",
    "z_score, p_value, old_conversion_rate, new_conversion_rate = z_test_proportions(old_layout, new_layout)\n",
    "\n",
    "print(f\"Old Layout Conversion Rate: {old_conversion_rate:.4f}\")\n",
    "print(f\"New Layout Conversion Rate: {new_conversion_rate:.4f}\")\n",
    "print(f\"Z-Score: {z_score:.4f}\")\n",
    "print(f\"P-Value: {p_value:.4f}\")\n",
    "\n",
    "# Interpretation\n",
    "alpha = 0.05  # Significance level\n",
    "if p_value < alpha:\n",
    "    print(\"The difference in conversion rates is statistically significant.\")\n",
    "else:\n",
    "    print(\"The difference in conversion rates is not statistically significant.\")\n"
   ]
  },
  {
   "cell_type": "markdown",
   "id": "f03c1fef-da5f-471e-b0af-16c9967d44e9",
   "metadata": {},
   "source": [
    ";¤M A tutoring service claims that its program improves students' exam scores. A sample oN students who \n",
    "participated in the program was taken, and their scores beNore and aNter the program were recorded.\n",
    "\n",
    "\n",
    "Use the below code to ge<erate samples of respective arrays of marks:\n",
    "\n",
    "```python\n",
    "\n",
    "before_program = <p.array([75, 80, 85, 70, 90, 78, 92, 88, 82, 87])\n",
    "\n",
    "after_program = <p.array([80, 85, 90, 80, 92, 80, 95, 90, 85, 88])\n",
    "\n",
    "```\n",
    "\n",
    "Use z-test to fi<d if the claims made by tutor are true or false"
   ]
  },
  {
   "cell_type": "markdown",
   "id": "b58524b6-9ac7-4f88-91bc-77b5475b7f4a",
   "metadata": {},
   "source": [
    "Hypotheses:\n",
    "Null Hypothesis (H₀): The tutoring program has no effect on students' scores. (The mean difference between before and after scores is 0)\n",
    "\n",
    "Alternative Hypothesis (H₁): The tutoring program has a positive effect on students' scores. (The mean difference is greater than 0)"
   ]
  },
  {
   "cell_type": "code",
   "execution_count": 1,
   "id": "ff906017-e656-4c4f-9afd-2dddca0e9417",
   "metadata": {},
   "outputs": [
    {
     "data": {
      "text/plain": [
       "(4.593190894944668, 1.6448536269514722)"
      ]
     },
     "execution_count": 1,
     "metadata": {},
     "output_type": "execute_result"
    }
   ],
   "source": [
    "import numpy as np\n",
    "from scipy import stats\n",
    "\n",
    "# Arrays of marks before and after the program\n",
    "before_program = np.array([75, 80, 85, 70, 90, 78, 92, 88, 82, 87])\n",
    "after_program = np.array([80, 85, 90, 80, 92, 80, 95, 90, 85, 88])\n",
    "\n",
    "# Calculate the differences\n",
    "differences = after_program - before_program\n",
    "\n",
    "# Calculate the mean and standard deviation of the differences\n",
    "mean_diff = np.mean(differences)\n",
    "std_diff = np.std(differences, ddof=1)\n",
    "\n",
    "# Number of students (sample size)\n",
    "n = len(differences)\n",
    "\n",
    "# Calculate the standard error\n",
    "standard_error = std_diff / np.sqrt(n)\n",
    "\n",
    "# Calculate the z-score\n",
    "z_score = mean_diff / standard_error\n",
    "\n",
    "# Critical value for a one-tailed z-test at alpha = 0.05\n",
    "z_critical = stats.norm.ppf(0.95)\n",
    "\n",
    "# Output the results\n",
    "z_score, z_critical\n"
   ]
  },
  {
   "cell_type": "markdown",
   "id": "787187ae-dea3-436c-808b-88459a04c069",
   "metadata": {},
   "source": [
    "Decision Rule:\n",
    "If the z-score is greater than the z-critical value, you reject the null hypothesis (meaning the tutoring program likely has a positive effect).\n",
    "If the z-score is less than or equal to the z-critical value, you fail to reject the null hypothesis (meaning the evidence is insufficient to conclude the program has a positive effect)."
   ]
  },
  {
   "cell_type": "markdown",
   "id": "f20830b4-912d-449c-bf11-62aca09ddf83",
   "metadata": {},
   "source": [
    ";êM A pharmaceutical company wants to determine iN a new drug is eNNective in reducing blood pressure. They \n",
    "conduct a study and record blood pressure measurements beNore and aNter administering the drug.\n",
    "\n",
    "\n",
    "Use the below code to ge<erate samples of respective arrays of blood pressure:\n",
    "\n",
    "\n",
    "```python\n",
    "\n",
    "before_drug = <p.array([145, 150, 140, 135, 155, 160, 152, 148, 130, 138])\n",
    "\n",
    "after_drug = <p.array([130, 140, 132, 128, 145, 148, 138, 136, 125, 130])\n",
    "\n",
    "  ```\n",
    "\n",
    "\n",
    "Impleme<t z-test to fi<d if the drug really works or <ot"
   ]
  },
  {
   "cell_type": "code",
   "execution_count": 2,
   "id": "320982cd-4107-4eae-9845-501ac5a1c1bf",
   "metadata": {},
   "outputs": [],
   "source": [
    "before_drug = np.array([145, 150, 140, 135, 155, 160, 152, 148, 130, 138])\n",
    "\n",
    "after_drug = np.array([130, 140, 132, 128, 145, 148, 138, 136, 125, 130])"
   ]
  },
  {
   "cell_type": "markdown",
   "id": "67a32599-69ee-49f7-8904-2b20b2d180d7",
   "metadata": {},
   "source": [
    "H0:drug is not effective in reducing blood pressure\n",
    "\n",
    "H1:drug is effective."
   ]
  },
  {
   "cell_type": "code",
   "execution_count": 3,
   "id": "91eaa9d2-dd42-42ac-8471-9408e9d5d127",
   "metadata": {},
   "outputs": [],
   "source": [
    "differences=after_drug-before_drug"
   ]
  },
  {
   "cell_type": "code",
   "execution_count": 5,
   "id": "6c1a60c4-0f4f-4ad2-8e5b-23e1363badba",
   "metadata": {},
   "outputs": [],
   "source": [
    "mean_diff=np.mean(differences)\n",
    "std_diff=np.std(differences,ddof=1)"
   ]
  },
  {
   "cell_type": "code",
   "execution_count": 6,
   "id": "5e900ed2-21e8-48d8-a036-b89cde2fb2e2",
   "metadata": {},
   "outputs": [],
   "source": [
    "n=len(differences)"
   ]
  },
  {
   "cell_type": "code",
   "execution_count": 7,
   "id": "67e38272-031c-4f78-9e94-2669511c4608",
   "metadata": {},
   "outputs": [],
   "source": [
    "standard_error=std_diff/np.sqrt(n)"
   ]
  },
  {
   "cell_type": "code",
   "execution_count": 8,
   "id": "69f3c219-8cf3-4cac-9609-ba8f53c30d13",
   "metadata": {},
   "outputs": [],
   "source": [
    "z_score=mean_diff/standard_error"
   ]
  },
  {
   "cell_type": "code",
   "execution_count": 9,
   "id": "c195f001-1f2d-4a87-88cb-c683784d82d0",
   "metadata": {},
   "outputs": [],
   "source": [
    "z_critical = stats.norm.ppf(0.95)"
   ]
  },
  {
   "cell_type": "code",
   "execution_count": 10,
   "id": "478aeb13-53b9-4e82-8ed4-8b17b08db6c7",
   "metadata": {},
   "outputs": [
    {
     "data": {
      "text/plain": [
       "(-10.049875621120888, 1.6448536269514722)"
      ]
     },
     "execution_count": 10,
     "metadata": {},
     "output_type": "execute_result"
    }
   ],
   "source": [
    "z_score,z_critical"
   ]
  },
  {
   "cell_type": "code",
   "execution_count": 24,
   "id": "3f242afb-a54c-4702-bd90-0b9da23ea57c",
   "metadata": {},
   "outputs": [
    {
     "name": "stdout",
     "output_type": "stream",
     "text": [
      "We reject the null hypothesis\n"
     ]
    }
   ],
   "source": [
    "if z_score<z_critical:\n",
    "    print(\"We reject the null hypothesis\")\n",
    "else:\n",
    "    print(\"We fail to reject the null hypothesis\")"
   ]
  },
  {
   "cell_type": "markdown",
   "id": "87d11f22-da7e-4bd7-9c74-0a193858fdd2",
   "metadata": {},
   "source": [
    "29U A custo:er service depart:ent clai:s that their average response ti:e is less than 5 :inutesV A sa:ple \n",
    "of recent custo:er interactions was taken, and the response ti:es were recorded.\n",
    "\n",
    "\n",
    "Impleme3t the below code to ge3erate the array of respo3se time:\n",
    "\n",
    "```python\n",
    "\n",
    "respo3se_times = 3p.array([4.3, 3.8, 5.1, 4.9, 4.7, 4.2, 5.2, 4.5, 4.6, 4.4])\n",
    "\n",
    "```\n",
    "\n",
    "Impleme3t z-test to fi3d the claims made by customer service departme3t are tru or false."
   ]
  },
  {
   "cell_type": "markdown",
   "id": "11a48fa9-828a-4bf2-b172-4d311e795127",
   "metadata": {},
   "source": [
    "H0: Average response time is not less than 5 minutes.t>=5\n",
    "\n",
    "H1:Average response time is less than 5 mins.t<5"
   ]
  },
  {
   "cell_type": "code",
   "execution_count": 12,
   "id": "ecedf82b-37ba-4963-8145-8e415d4bd434",
   "metadata": {},
   "outputs": [],
   "source": [
    "response_times = np.array([4.3, 3.8, 5.1, 4.9, 4.7, 4.2, 5.2, 4.5, 4.6, 4.4])"
   ]
  },
  {
   "cell_type": "code",
   "execution_count": 14,
   "id": "794243bd-cb02-45e5-9ecd-528508206370",
   "metadata": {},
   "outputs": [],
   "source": [
    "mean=np.mean(response_times)\n",
    "std=np.std(response_times,ddof=1)"
   ]
  },
  {
   "cell_type": "code",
   "execution_count": 15,
   "id": "18c3a3b5-87f5-4498-a759-e63dd4ac22c5",
   "metadata": {},
   "outputs": [],
   "source": [
    "n=len(response_times)"
   ]
  },
  {
   "cell_type": "code",
   "execution_count": 17,
   "id": "127d0a1f-bcb8-4085-9217-eb7364d65b21",
   "metadata": {},
   "outputs": [],
   "source": [
    "standard_error=std/np.sqrt(n)"
   ]
  },
  {
   "cell_type": "code",
   "execution_count": 19,
   "id": "ba095454-8eb3-49cd-b080-c1b962545ec4",
   "metadata": {},
   "outputs": [],
   "source": [
    "population_mean =5"
   ]
  },
  {
   "cell_type": "code",
   "execution_count": 20,
   "id": "c0afdb8b-549d-4a8d-aa4f-559cf080b808",
   "metadata": {},
   "outputs": [],
   "source": [
    "z_score=(mean-population_mean)/standard_error"
   ]
  },
  {
   "cell_type": "code",
   "execution_count": 21,
   "id": "798567d5-63bd-41e3-94a9-98b18d621108",
   "metadata": {},
   "outputs": [],
   "source": [
    "z_critical = stats.norm.ppf(0.95)"
   ]
  },
  {
   "cell_type": "code",
   "execution_count": 22,
   "id": "fac150af-68d6-45c8-9c2a-e1dbe6191748",
   "metadata": {},
   "outputs": [
    {
     "data": {
      "text/plain": [
       "(-3.184457226042963, 1.6448536269514722)"
      ]
     },
     "execution_count": 22,
     "metadata": {},
     "output_type": "execute_result"
    }
   ],
   "source": [
    "z_score,z_critical"
   ]
  },
  {
   "cell_type": "code",
   "execution_count": 25,
   "id": "8d0ae424-f036-419e-bb77-9434d6ed66e5",
   "metadata": {},
   "outputs": [
    {
     "name": "stdout",
     "output_type": "stream",
     "text": [
      "We reject the null hypothesis\n"
     ]
    }
   ],
   "source": [
    "if z_score<z_critical:\n",
    "    print(\"We reject the null hypothesis\")\n",
    "else:\n",
    "    print(\"We fail to reject the null hypothesis\")"
   ]
  },
  {
   "cell_type": "markdown",
   "id": "018ba7e0-c85f-4fd4-82aa-220f6cbf8e98",
   "metadata": {},
   "source": [
    "2£U A co:pany is testing two different website layouts to see which one leads to higher click-through ratesV \n",
    "Write a Python function to perfor: an A/B test analysis, including calculating the t-statistic, degrees of \n",
    "freedo:, and p-value.\n",
    "\n",
    "\n",
    "Use the followi3g data:\n",
    "\n",
    "```python\n",
    "\n",
    "layout_a_clicks = [28, 32, 33, 29, 31, 34, 30, 35, 36, 37]\n",
    "\n",
    "layout_b_clicks = [40, 41, 38, 42, 39, 44, 43, 41, 45, 47]"
   ]
  },
  {
   "cell_type": "code",
   "execution_count": 1,
   "id": "ec59a3ad-d1e6-4f31-8da3-ae2dc1efb8d8",
   "metadata": {},
   "outputs": [
    {
     "data": {
      "text/plain": [
       "(-7.298102156175071, 18, 8.833437608301987e-07)"
      ]
     },
     "execution_count": 1,
     "metadata": {},
     "output_type": "execute_result"
    }
   ],
   "source": [
    "import numpy as np\n",
    "from scipy import stats\n",
    "\n",
    "def ab_test_analysis(layout_a_clicks, layout_b_clicks):\n",
    "    # Convert the lists to numpy arrays\n",
    "    layout_a = np.array(layout_a_clicks)\n",
    "    layout_b = np.array(layout_b_clicks)\n",
    "\n",
    "    # Calculate the means and standard deviations\n",
    "    mean_a = np.mean(layout_a)\n",
    "    mean_b = np.mean(layout_b)\n",
    "    std_a = np.std(layout_a, ddof=1)\n",
    "    std_b = np.std(layout_b, ddof=1)\n",
    "\n",
    "    # Sample sizes\n",
    "    n_a = len(layout_a)\n",
    "    n_b = len(layout_b)\n",
    "\n",
    "    # Calculate the standard error\n",
    "    se = np.sqrt((std_a**2 / n_a) + (std_b**2 / n_b))\n",
    "\n",
    "    # Calculate the t-statistic\n",
    "    t_statistic = (mean_a - mean_b) / se\n",
    "\n",
    "    # Degrees of freedom\n",
    "    df = n_a + n_b - 2\n",
    "\n",
    "    # Calculate the p-value (two-tailed test)\n",
    "    p_value = stats.t.sf(np.abs(t_statistic), df) * 2\n",
    "\n",
    "    return t_statistic, df, p_value\n",
    "\n",
    "# Data for layout A and layout B\n",
    "layout_a_clicks = [28, 32, 33, 29, 31, 34, 30, 35, 36, 37]\n",
    "layout_b_clicks = [40, 41, 38, 42, 39, 44, 43, 41, 45, 47]\n",
    "\n",
    "# Perform the A/B test analysis\n",
    "t_statistic, df, p_value = ab_test_analysis(layout_a_clicks, layout_b_clicks)\n",
    "\n",
    "# Output the results\n",
    "t_statistic, df, p_value\n"
   ]
  },
  {
   "cell_type": "code",
   "execution_count": 2,
   "id": "eb4d8f92-a363-4a24-9c6c-be7014024ab5",
   "metadata": {},
   "outputs": [
    {
     "name": "stdout",
     "output_type": "stream",
     "text": [
      "Reject the null hypothesis\n",
      "there is a statistically significant difference between the two layouts.\n"
     ]
    }
   ],
   "source": [
    "if p_value<0.05:\n",
    "    print('Reject the null hypothesis')\n",
    "    print('there is a statistically significant difference between the two layouts.')\n",
    "else:\n",
    "    print('fail to reject the null hypothesis')\n",
    "    print(' the evidence is insufficient to conclude a difference.')"
   ]
  },
  {
   "cell_type": "markdown",
   "id": "73cdf599-564d-405b-95b6-48d5dc7fd6ff",
   "metadata": {},
   "source": [
    "16 A phar:aceutical co:pany wants to deter:ine if a new drug is :ore effective than an existing drug in \n",
    "reducing cholesterol levelsV Create a progra: to analyze the clinical trial data and calculate the t\u0002statistic and p-value for the treat:ent effect.\n",
    "\n",
    "\n",
    "Use the followi3g data of cholestrol level:\n",
    "\n",
    "```python\n",
    "\n",
    "existi3g_drug_levels = [180, 182, 175, 185, 178, 176, 172, 184, 179, 183]\n",
    "\n",
    "3ew_drug_levels = [170, 172, 165, 168, 175, 173, 170, 178, 172, 176]"
   ]
  },
  {
   "cell_type": "code",
   "execution_count": 4,
   "id": "b6dc72b2-8cda-447b-bf99-b2d30b733fc6",
   "metadata": {},
   "outputs": [],
   "source": [
    "existing_drug_levels = [180, 182, 175, 185, 178, 176, 172, 184, 179, 183]\n",
    "\n",
    "new_drug_levels = [170, 172, 165, 168, 175, 173, 170, 178, 172, 176]"
   ]
  },
  {
   "cell_type": "markdown",
   "id": "27fb6e96-c331-4dc8-9223-86e885116044",
   "metadata": {},
   "source": [
    "H0:new drug is not effective than an existing drug in reducing cholestrol level\n",
    "\n",
    "H1:new drug is effective than existing drug in reducing cholestrol level"
   ]
  },
  {
   "cell_type": "code",
   "execution_count": 7,
   "id": "effe4f95-6231-4526-a680-357895f06017",
   "metadata": {},
   "outputs": [
    {
     "name": "stdout",
     "output_type": "stream",
     "text": [
      "t-statistic: 4.14048098620866\n",
      "p-value: 0.0006143398442372505\n"
     ]
    }
   ],
   "source": [
    "import scipy.stats as stats\n",
    "\n",
    "# Provided cholesterol level data\n",
    "existing_drug_levels = [180, 182, 175, 185, 178, 176, 172, 184, 179, 183]\n",
    "new_drug_levels = [170, 172, 165, 168, 175, 173, 170, 178, 172, 176]\n",
    "\n",
    "# Perform an independent t-test\n",
    "t_statistic, p_value = stats.ttest_ind(existing_drug_levels, new_drug_levels)\n",
    "\n",
    "print(f\"t-statistic: {t_statistic}\")\n",
    "print(f\"p-value: {p_value}\")\n"
   ]
  },
  {
   "cell_type": "code",
   "execution_count": 8,
   "id": "5d20fab9-0c49-48bb-8e88-66d79e23827d",
   "metadata": {},
   "outputs": [
    {
     "name": "stdout",
     "output_type": "stream",
     "text": [
      "reject null hypothesis\n"
     ]
    }
   ],
   "source": [
    "if p_value<0.05:\n",
    "    print('reject null hypothesis')\n",
    "else:\n",
    "    print('fail to reject the null hypothesis')"
   ]
  },
  {
   "cell_type": "markdown",
   "id": "58260dfc-1280-4557-bb8f-77dbf149ac74",
   "metadata": {},
   "source": [
    "2.U A school district introduces an educational intervention progra: to i:prove :ath scoresV Write a Python \n",
    "function to analyze pre- and post-intervention test scores, calculating the t-statistic and p-value to \n",
    "deter:ine if the intervention had a significant i:pact.\n",
    "\n",
    "\n",
    "Use the followi3g data of test score:\n",
    "\n",
    "\n",
    "  ```python\n",
    "\n",
    "  pre_i3terve3tio3_scores = [80, 85, 90, 75, 88, 82, 92, 78, 85, 87]\n",
    "\n",
    "  post_i3terve3tio3_scores = [90, 92, 88, 92, 95, 91, 96, 93, 89, 93]"
   ]
  },
  {
   "cell_type": "code",
   "execution_count": 10,
   "id": "91efd31c-4dde-46f8-a04d-be9bbeaff782",
   "metadata": {},
   "outputs": [],
   "source": [
    "pre_intervention_scores = [80, 85, 90, 75, 88, 82, 92, 78, 85, 87]\n",
    "\n",
    "post_intervention_scores = [90, 92, 88, 92, 95, 91, 96, 93, 89, 93]"
   ]
  },
  {
   "cell_type": "markdown",
   "id": "fafa79d6-6bb2-48ed-b9a5-325502ef5dd9",
   "metadata": {},
   "source": [
    "H0:intervention program did not have a significant impact to improve math scores\n",
    "\n",
    "H1:intervention program has a significant impact to improve math scores"
   ]
  },
  {
   "cell_type": "code",
   "execution_count": 11,
   "id": "379edc0b-78bc-470e-ba92-4b86e92af8b6",
   "metadata": {},
   "outputs": [
    {
     "name": "stdout",
     "output_type": "stream",
     "text": [
      "t-statistic: -4.080355128162116\n",
      "p-value: 0.0007022570725706455\n"
     ]
    }
   ],
   "source": [
    "t_statistic, p_value = stats.ttest_ind(pre_intervention_scores, post_intervention_scores)\n",
    "\n",
    "print(f\"t-statistic: {t_statistic}\")\n",
    "print(f\"p-value: {p_value}\")\n"
   ]
  },
  {
   "cell_type": "code",
   "execution_count": 12,
   "id": "abb6c145-0ceb-4a08-a760-17ce2107bd57",
   "metadata": {},
   "outputs": [
    {
     "name": "stdout",
     "output_type": "stream",
     "text": [
      "reject null hypothesis\n"
     ]
    }
   ],
   "source": [
    "if p_value<0.05:\n",
    "    print('reject null hypothesis')\n",
    "else:\n",
    "    print('fail to reject the null hypothesis')"
   ]
  },
  {
   "cell_type": "markdown",
   "id": "3cb47d8f-0d75-4ac3-a14c-1fd7d162571a",
   "metadata": {},
   "source": [
    "18 An HR department wants to investigate i@ there's a gender-based salary gap within the company. Develop \n",
    "a program to analyze salary data, calculate the t-statistic, and determine i@ there's a statistically \n",
    "signi@icant di@@erence between the average salaries o@ male and @emale employees.\n",
    "\n",
    "\n",
    "Use the below code to generate synthetic dataY\n",
    "```python\n",
    "\n",
    "# Generate synthetic salary data for male and female employees\n",
    "\n",
    "np.random.seed(0)  # For reproducibility\n",
    "\n",
    "male_salaries = np.random.normal(loc=50000, scale=10000, size=20)\n",
    "\n",
    "female_salaries = np.random.normal(loc=55000, scale=9000, size=20)"
   ]
  },
  {
   "cell_type": "code",
   "execution_count": 14,
   "id": "7a87e004-5df0-4a72-86b9-04ce9b0d905d",
   "metadata": {},
   "outputs": [],
   "source": [
    "np.random.seed(0)  # For reproducibility\n",
    "\n",
    "male_salaries = np.random.normal(loc=50000, scale=10000, size=20)\n",
    "\n",
    "female_salaries = np.random.normal(loc=55000, scale=9000, size=20)"
   ]
  },
  {
   "cell_type": "markdown",
   "id": "9f6b4f3a-6cf5-4656-8702-bd5d7bdcf59e",
   "metadata": {},
   "source": [
    "H0:there isnt a statistically significant difference between the average salaries of male and female employees\n",
    "\n",
    "H1:there is a statistically significant difference between the average salaries of male and female employees\n"
   ]
  },
  {
   "cell_type": "code",
   "execution_count": 15,
   "id": "177a93d4-ff77-4886-8949-8a797653e578",
   "metadata": {},
   "outputs": [
    {
     "data": {
      "text/plain": [
       "array([67640.52345968, 54001.57208367, 59787.37984106, 72408.93199201,\n",
       "       68675.5799015 , 40227.22120124, 59500.88417526, 48486.42791702,\n",
       "       48967.81148206, 54105.98501938, 51440.43571161, 64542.73506963,\n",
       "       57610.37725147, 51216.75016493, 54438.63232745, 53336.74327374,\n",
       "       64940.79073158, 47948.41736234, 53130.67701651, 41459.04260698])"
      ]
     },
     "execution_count": 15,
     "metadata": {},
     "output_type": "execute_result"
    }
   ],
   "source": [
    "male_salaries"
   ]
  },
  {
   "cell_type": "code",
   "execution_count": 16,
   "id": "7a500990-526b-41c2-9dd3-aac97de2e9d9",
   "metadata": {},
   "outputs": [
    {
     "data": {
      "text/plain": [
       "array([32023.09165749, 60882.56735896, 62779.92578974, 48320.51481634,\n",
       "       75427.79161589, 41910.70892861, 55411.82665571, 53315.34534977,\n",
       "       68795.01292923, 68224.2289291 , 56394.52683127, 58403.46267642,\n",
       "       47009.92827133, 37172.83178598, 51868.79065606, 56407.14072194,\n",
       "       66072.61612655, 65821.41863906, 51514.05864333, 52279.27524482])"
      ]
     },
     "execution_count": 16,
     "metadata": {},
     "output_type": "execute_result"
    }
   ],
   "source": [
    "female_salaries"
   ]
  },
  {
   "cell_type": "code",
   "execution_count": 17,
   "id": "ca8c1b7f-8aef-4a05-a70e-a1ec0dc4db43",
   "metadata": {},
   "outputs": [
    {
     "name": "stdout",
     "output_type": "stream",
     "text": [
      "t-statistic: 0.06114208969631383\n",
      "p-value: 0.9515665020676465\n"
     ]
    }
   ],
   "source": [
    "t_statistic, p_value = stats.ttest_ind(male_salaries, female_salaries)\n",
    "\n",
    "print(f\"t-statistic: {t_statistic}\")\n",
    "print(f\"p-value: {p_value}\")\n"
   ]
  },
  {
   "cell_type": "code",
   "execution_count": 18,
   "id": "31a2ca8f-44e1-46d4-9ee5-eec67a29e016",
   "metadata": {},
   "outputs": [
    {
     "name": "stdout",
     "output_type": "stream",
     "text": [
      "fail to reject the null hypothesis\n"
     ]
    }
   ],
   "source": [
    "if p_value<0.05:\n",
    "    print('reject null hypothesis')\n",
    "else:\n",
    "    print('fail to reject the null hypothesis')"
   ]
  },
  {
   "cell_type": "markdown",
   "id": "e892608f-567e-43b0-b16e-00f0ec555d0b",
   "metadata": {},
   "source": [
    "19 V? A manu@acturer produces two di@@erent versions o@ a product and wants to compare their quality scores. \n",
    "Create a Python @unction to analyze quality assessment data, calculate the t-statistic, and decide \n",
    "whether there's a signi@icant di@@erence in quality between the two versions.\n",
    "\n",
    "\n",
    "Use the following dataY\n",
    "```python\n",
    "\n",
    "version1_scores = [85, 88, 82, 89, 87, 84, 90, 88, 85, 86, 91, 83, 87, 84, 89, 86, 84, 88, 85, 86, 89, 90, 87, 88, 85]\n",
    "\n",
    "version2_scores = [80, 78, 83, 81, 79, 82, 76, 80, 78, 81, 77, 82, 80, 79, 82, 79, 80, 81, 79, 82, 79, 78, 80, 81, 82]"
   ]
  },
  {
   "cell_type": "markdown",
   "id": "478ed519-a9ea-4d4d-8de4-f3f22717c5fe",
   "metadata": {},
   "source": [
    "H0: there isnt a significant difference in quality between the two version\n",
    "\n",
    "H1:there is a significant difference in quality between the two version"
   ]
  },
  {
   "cell_type": "code",
   "execution_count": 19,
   "id": "4225919e-b80d-4321-abb3-de43cdffb7d7",
   "metadata": {},
   "outputs": [],
   "source": [
    "version1_scores = [85, 88, 82, 89, 87, 84, 90, 88, 85, 86, 91, 83, 87, 84, 89, 86, 84, 88, 85, 86, 89, 90, 87, 88, 85]\n",
    "\n",
    "version2_scores = [80, 78, 83, 81, 79, 82, 76, 80, 78, 81, 77, 82, 80, 79, 82, 79, 80, 81, 79, 82, 79, 78, 80, 81, 82]"
   ]
  },
  {
   "cell_type": "code",
   "execution_count": 20,
   "id": "9c0c2589-d30f-4d2d-9615-866ab5db10ad",
   "metadata": {},
   "outputs": [
    {
     "name": "stdout",
     "output_type": "stream",
     "text": [
      "t-statistic: 11.325830417646698\n",
      "p-value: 3.6824250702873965e-15\n"
     ]
    }
   ],
   "source": [
    "t_statistic, p_value = stats.ttest_ind(version1_scores, version2_scores)\n",
    "\n",
    "print(f\"t-statistic: {t_statistic}\")\n",
    "print(f\"p-value: {p_value}\")\n"
   ]
  },
  {
   "cell_type": "code",
   "execution_count": 21,
   "id": "096c3f11-34fe-4ea0-88e8-7c8662239c0b",
   "metadata": {},
   "outputs": [
    {
     "name": "stdout",
     "output_type": "stream",
     "text": [
      "reject null hypothesis\n"
     ]
    }
   ],
   "source": [
    "if p_value<0.05:\n",
    "    print('reject null hypothesis')\n",
    "else:\n",
    "    print('fail to reject the null hypothesis')"
   ]
  },
  {
   "cell_type": "markdown",
   "id": "a5458e8f-8ebe-4562-9259-8dc73ab78cc9",
   "metadata": {},
   "source": [
    " 20. A restaurant chain collects customer satis@action scores @or two di@@erent branches. Write a program to \n",
    "analyze the scores, calculate the t-statistic, and determine i@ there's a statistically signi@icant di@@erence in \n",
    "customer satis@action between the branches.\n",
    "\n",
    "\n",
    "Use the below data of scores:\n",
    "\n",
    "  ```python\n",
    "\n",
    "branch_a_scores = [4, 5, 3, 4, 5, 4, 5, 3, 4, 4, 5, 4, 4, 3, 4, 5, 5, 4, 3, 4, 5, 4, 3, 5, 4, 4, 5, 3, 4, 5, 4]\n",
    "\n",
    "branch_b_scores = [3, 4, 2, 3, 4, 3, 4, 2, 3, 3, 4, 3, 3, 2, 3, 4, 4, 3, 2, 3, 4, 3, 2, 4, 3, 3, 4, 2, 3, 4, 3]"
   ]
  },
  {
   "cell_type": "code",
   "execution_count": 23,
   "id": "3e38485c-dc90-4fd5-944f-285ee6430438",
   "metadata": {},
   "outputs": [],
   "source": [
    "branch_a_scores = [4, 5, 3, 4, 5, 4, 5, 3, 4, 4, 5, 4, 4, 3, 4, 5, 5, 4, 3, 4, 5, 4, 3, 5, 4, 4, 5, 3, 4, 5, 4]\n",
    "\n",
    "branch_b_scores = [3, 4, 2, 3, 4, 3, 4, 2, 3, 3, 4, 3, 3, 2, 3, 4, 4, 3, 2, 3, 4, 3, 2, 4, 3, 3, 4, 2, 3, 4, 3]\n"
   ]
  },
  {
   "cell_type": "markdown",
   "id": "227d9306-758f-4f95-a66d-ad4590977860",
   "metadata": {},
   "source": [
    "H0:  there is not a statistically significant difference in customer satisfaction between the branches\n",
    "\n",
    "H1:there is  a statistically significant difference in customer satisfaction between the branches\n"
   ]
  },
  {
   "cell_type": "code",
   "execution_count": 28,
   "id": "d0ee96b6-595d-4b0a-a2e7-f88cbb160f18",
   "metadata": {},
   "outputs": [
    {
     "name": "stdout",
     "output_type": "stream",
     "text": [
      "t-statistic: 5.480077554195743\n",
      "p-value: 8.895290509945655e-07\n"
     ]
    }
   ],
   "source": [
    "t_statistic, p_value = stats.ttest_ind(branch_a_scores, branch_b_scores)\n",
    "\n",
    "print(f\"t-statistic: {t_statistic}\")\n",
    "print(f\"p-value: {p_value}\")\n"
   ]
  },
  {
   "cell_type": "code",
   "execution_count": 29,
   "id": "fb4a88ba-93ff-4749-bbc4-508324b26846",
   "metadata": {},
   "outputs": [
    {
     "name": "stdout",
     "output_type": "stream",
     "text": [
      "reject null hypothesis\n"
     ]
    }
   ],
   "source": [
    "if p_value<0.05:\n",
    "    print('reject null hypothesis')\n",
    "else:\n",
    "    print('fail to reject the null hypothesis')"
   ]
  },
  {
   "cell_type": "markdown",
   "id": "0ab2295d-0ef3-498f-88c2-097b844a6a7d",
   "metadata": {},
   "source": [
    "RV? A political analyst wants to determine i@ there is a signi@icant association between age groups and voter \n",
    "pre@erences FCandidate A or Candidate B). They collect data @rom a sample o@ 500 voters and classi@y \n",
    "them into di@@erent age groups and candidate pre@erences. Per@orm a Chi-Square test to determine i@ \n",
    "there is a signi@icant association between age groups and voter pre@erences.\n",
    "\n",
    "\n",
    "Use the below code to generate data:\n",
    "\n",
    "```python\n",
    "\n",
    "np.random.seed(0)\n",
    "\n",
    "age_groups = np.random.choice([ 18 30 , 31 50 , 51+', 51+'], size=30)\n",
    "\n",
    "voter_preferences = np.random.choice(['Candidate A', 'Candidate B'], size=30)"
   ]
  },
  {
   "cell_type": "markdown",
   "id": "b8b59466-beba-4b13-bca3-8e6dcb07b687",
   "metadata": {},
   "source": [
    "H0: there isnt a significant association between age groups and voter preferences\n",
    "\n",
    "H1: there is a significant association between age groups and voter preferences\n"
   ]
  },
  {
   "cell_type": "code",
   "execution_count": 34,
   "id": "4989acbc-49d3-4a84-beca-970e640bbdd8",
   "metadata": {},
   "outputs": [],
   "source": [
    "np.random.seed(0)\n",
    "\n",
    "age_groups = np.random.choice([ '18-30 ', '31-50 ', '51+', '51+'], size=30)\n",
    "\n",
    "voter_preferences = np.random.choice(['Candidate A', 'Candidate B'], size=30)"
   ]
  },
  {
   "cell_type": "code",
   "execution_count": 35,
   "id": "3ed2cc6f-1628-42fd-8056-3aa461c79329",
   "metadata": {},
   "outputs": [
    {
     "data": {
      "text/plain": [
       "array(['18-30 ', '51+', '31-50 ', '18-30 ', '51+', '51+', '51+', '51+',\n",
       "       '31-50 ', '51+', '31-50 ', '51+', '18-30 ', '51+', '51+', '18-30 ',\n",
       "       '18-30 ', '18-30 ', '51+', '31-50 ', '51+', '51+', '51+', '51+',\n",
       "       '18-30 ', '31-50 ', '31-50 ', '31-50 ', '31-50 ', '18-30 '],\n",
       "      dtype='<U6')"
      ]
     },
     "execution_count": 35,
     "metadata": {},
     "output_type": "execute_result"
    }
   ],
   "source": [
    "age_groups"
   ]
  },
  {
   "cell_type": "code",
   "execution_count": 36,
   "id": "a9f9ec42-1692-447f-86df-cb7e72ad979c",
   "metadata": {},
   "outputs": [
    {
     "data": {
      "text/plain": [
       "array(['Candidate B', 'Candidate A', 'Candidate B', 'Candidate A',\n",
       "       'Candidate B', 'Candidate B', 'Candidate A', 'Candidate B',\n",
       "       'Candidate B', 'Candidate A', 'Candidate A', 'Candidate B',\n",
       "       'Candidate A', 'Candidate B', 'Candidate B', 'Candidate B',\n",
       "       'Candidate B', 'Candidate B', 'Candidate A', 'Candidate B',\n",
       "       'Candidate A', 'Candidate B', 'Candidate B', 'Candidate B',\n",
       "       'Candidate B', 'Candidate A', 'Candidate B', 'Candidate A',\n",
       "       'Candidate A', 'Candidate B'], dtype='<U11')"
      ]
     },
     "execution_count": 36,
     "metadata": {},
     "output_type": "execute_result"
    }
   ],
   "source": [
    "age_groups"
   ]
  },
  {
   "cell_type": "code",
   "execution_count": 38,
   "id": "fed47a56-b9fa-4de8-85c1-f8fbb440587d",
   "metadata": {},
   "outputs": [],
   "source": [
    "import pandas as pd"
   ]
  },
  {
   "cell_type": "code",
   "execution_count": 44,
   "id": "73ab407a-07f1-4682-8f7a-51dcdfc6e1d8",
   "metadata": {},
   "outputs": [],
   "source": [
    "df=pd.DataFrame({'age_groups':age_groups,'voter_preferences':voter_preferences})"
   ]
  },
  {
   "cell_type": "code",
   "execution_count": 45,
   "id": "5e9d61ec-441d-4d60-9e6d-a9085822d8e7",
   "metadata": {},
   "outputs": [
    {
     "data": {
      "text/html": [
       "<div>\n",
       "<style scoped>\n",
       "    .dataframe tbody tr th:only-of-type {\n",
       "        vertical-align: middle;\n",
       "    }\n",
       "\n",
       "    .dataframe tbody tr th {\n",
       "        vertical-align: top;\n",
       "    }\n",
       "\n",
       "    .dataframe thead th {\n",
       "        text-align: right;\n",
       "    }\n",
       "</style>\n",
       "<table border=\"1\" class=\"dataframe\">\n",
       "  <thead>\n",
       "    <tr style=\"text-align: right;\">\n",
       "      <th></th>\n",
       "      <th>age_groups</th>\n",
       "      <th>voter_preferences</th>\n",
       "    </tr>\n",
       "  </thead>\n",
       "  <tbody>\n",
       "    <tr>\n",
       "      <th>0</th>\n",
       "      <td>18-30</td>\n",
       "      <td>Candidate B</td>\n",
       "    </tr>\n",
       "    <tr>\n",
       "      <th>1</th>\n",
       "      <td>51+</td>\n",
       "      <td>Candidate A</td>\n",
       "    </tr>\n",
       "    <tr>\n",
       "      <th>2</th>\n",
       "      <td>31-50</td>\n",
       "      <td>Candidate B</td>\n",
       "    </tr>\n",
       "    <tr>\n",
       "      <th>3</th>\n",
       "      <td>18-30</td>\n",
       "      <td>Candidate A</td>\n",
       "    </tr>\n",
       "    <tr>\n",
       "      <th>4</th>\n",
       "      <td>51+</td>\n",
       "      <td>Candidate B</td>\n",
       "    </tr>\n",
       "    <tr>\n",
       "      <th>5</th>\n",
       "      <td>51+</td>\n",
       "      <td>Candidate B</td>\n",
       "    </tr>\n",
       "    <tr>\n",
       "      <th>6</th>\n",
       "      <td>51+</td>\n",
       "      <td>Candidate A</td>\n",
       "    </tr>\n",
       "    <tr>\n",
       "      <th>7</th>\n",
       "      <td>51+</td>\n",
       "      <td>Candidate B</td>\n",
       "    </tr>\n",
       "    <tr>\n",
       "      <th>8</th>\n",
       "      <td>31-50</td>\n",
       "      <td>Candidate B</td>\n",
       "    </tr>\n",
       "    <tr>\n",
       "      <th>9</th>\n",
       "      <td>51+</td>\n",
       "      <td>Candidate A</td>\n",
       "    </tr>\n",
       "    <tr>\n",
       "      <th>10</th>\n",
       "      <td>31-50</td>\n",
       "      <td>Candidate A</td>\n",
       "    </tr>\n",
       "    <tr>\n",
       "      <th>11</th>\n",
       "      <td>51+</td>\n",
       "      <td>Candidate B</td>\n",
       "    </tr>\n",
       "    <tr>\n",
       "      <th>12</th>\n",
       "      <td>18-30</td>\n",
       "      <td>Candidate A</td>\n",
       "    </tr>\n",
       "    <tr>\n",
       "      <th>13</th>\n",
       "      <td>51+</td>\n",
       "      <td>Candidate B</td>\n",
       "    </tr>\n",
       "    <tr>\n",
       "      <th>14</th>\n",
       "      <td>51+</td>\n",
       "      <td>Candidate B</td>\n",
       "    </tr>\n",
       "    <tr>\n",
       "      <th>15</th>\n",
       "      <td>18-30</td>\n",
       "      <td>Candidate B</td>\n",
       "    </tr>\n",
       "    <tr>\n",
       "      <th>16</th>\n",
       "      <td>18-30</td>\n",
       "      <td>Candidate B</td>\n",
       "    </tr>\n",
       "    <tr>\n",
       "      <th>17</th>\n",
       "      <td>18-30</td>\n",
       "      <td>Candidate B</td>\n",
       "    </tr>\n",
       "    <tr>\n",
       "      <th>18</th>\n",
       "      <td>51+</td>\n",
       "      <td>Candidate A</td>\n",
       "    </tr>\n",
       "    <tr>\n",
       "      <th>19</th>\n",
       "      <td>31-50</td>\n",
       "      <td>Candidate B</td>\n",
       "    </tr>\n",
       "    <tr>\n",
       "      <th>20</th>\n",
       "      <td>51+</td>\n",
       "      <td>Candidate A</td>\n",
       "    </tr>\n",
       "    <tr>\n",
       "      <th>21</th>\n",
       "      <td>51+</td>\n",
       "      <td>Candidate B</td>\n",
       "    </tr>\n",
       "    <tr>\n",
       "      <th>22</th>\n",
       "      <td>51+</td>\n",
       "      <td>Candidate B</td>\n",
       "    </tr>\n",
       "    <tr>\n",
       "      <th>23</th>\n",
       "      <td>51+</td>\n",
       "      <td>Candidate B</td>\n",
       "    </tr>\n",
       "    <tr>\n",
       "      <th>24</th>\n",
       "      <td>18-30</td>\n",
       "      <td>Candidate B</td>\n",
       "    </tr>\n",
       "    <tr>\n",
       "      <th>25</th>\n",
       "      <td>31-50</td>\n",
       "      <td>Candidate A</td>\n",
       "    </tr>\n",
       "    <tr>\n",
       "      <th>26</th>\n",
       "      <td>31-50</td>\n",
       "      <td>Candidate B</td>\n",
       "    </tr>\n",
       "    <tr>\n",
       "      <th>27</th>\n",
       "      <td>31-50</td>\n",
       "      <td>Candidate A</td>\n",
       "    </tr>\n",
       "    <tr>\n",
       "      <th>28</th>\n",
       "      <td>31-50</td>\n",
       "      <td>Candidate A</td>\n",
       "    </tr>\n",
       "    <tr>\n",
       "      <th>29</th>\n",
       "      <td>18-30</td>\n",
       "      <td>Candidate B</td>\n",
       "    </tr>\n",
       "  </tbody>\n",
       "</table>\n",
       "</div>"
      ],
      "text/plain": [
       "   age_groups voter_preferences\n",
       "0      18-30        Candidate B\n",
       "1         51+       Candidate A\n",
       "2      31-50        Candidate B\n",
       "3      18-30        Candidate A\n",
       "4         51+       Candidate B\n",
       "5         51+       Candidate B\n",
       "6         51+       Candidate A\n",
       "7         51+       Candidate B\n",
       "8      31-50        Candidate B\n",
       "9         51+       Candidate A\n",
       "10     31-50        Candidate A\n",
       "11        51+       Candidate B\n",
       "12     18-30        Candidate A\n",
       "13        51+       Candidate B\n",
       "14        51+       Candidate B\n",
       "15     18-30        Candidate B\n",
       "16     18-30        Candidate B\n",
       "17     18-30        Candidate B\n",
       "18        51+       Candidate A\n",
       "19     31-50        Candidate B\n",
       "20        51+       Candidate A\n",
       "21        51+       Candidate B\n",
       "22        51+       Candidate B\n",
       "23        51+       Candidate B\n",
       "24     18-30        Candidate B\n",
       "25     31-50        Candidate A\n",
       "26     31-50        Candidate B\n",
       "27     31-50        Candidate A\n",
       "28     31-50        Candidate A\n",
       "29     18-30        Candidate B"
      ]
     },
     "execution_count": 45,
     "metadata": {},
     "output_type": "execute_result"
    }
   ],
   "source": [
    "df"
   ]
  },
  {
   "cell_type": "code",
   "execution_count": 46,
   "id": "10efb94d-3192-4260-b147-c53fba740206",
   "metadata": {},
   "outputs": [],
   "source": [
    "data_table = pd.crosstab(df['age_groups'], df['voter_preferences'])"
   ]
  },
  {
   "cell_type": "code",
   "execution_count": 47,
   "id": "8b83c797-fb93-46a6-927d-c9f1e5ac1113",
   "metadata": {},
   "outputs": [
    {
     "data": {
      "text/html": [
       "<div>\n",
       "<style scoped>\n",
       "    .dataframe tbody tr th:only-of-type {\n",
       "        vertical-align: middle;\n",
       "    }\n",
       "\n",
       "    .dataframe tbody tr th {\n",
       "        vertical-align: top;\n",
       "    }\n",
       "\n",
       "    .dataframe thead th {\n",
       "        text-align: right;\n",
       "    }\n",
       "</style>\n",
       "<table border=\"1\" class=\"dataframe\">\n",
       "  <thead>\n",
       "    <tr style=\"text-align: right;\">\n",
       "      <th>voter_preferences</th>\n",
       "      <th>Candidate A</th>\n",
       "      <th>Candidate B</th>\n",
       "    </tr>\n",
       "    <tr>\n",
       "      <th>age_groups</th>\n",
       "      <th></th>\n",
       "      <th></th>\n",
       "    </tr>\n",
       "  </thead>\n",
       "  <tbody>\n",
       "    <tr>\n",
       "      <th>18-30</th>\n",
       "      <td>2</td>\n",
       "      <td>6</td>\n",
       "    </tr>\n",
       "    <tr>\n",
       "      <th>31-50</th>\n",
       "      <td>4</td>\n",
       "      <td>4</td>\n",
       "    </tr>\n",
       "    <tr>\n",
       "      <th>51+</th>\n",
       "      <td>5</td>\n",
       "      <td>9</td>\n",
       "    </tr>\n",
       "  </tbody>\n",
       "</table>\n",
       "</div>"
      ],
      "text/plain": [
       "voter_preferences  Candidate A  Candidate B\n",
       "age_groups                                 \n",
       "18-30                        2            6\n",
       "31-50                        4            4\n",
       "51+                          5            9"
      ]
     },
     "execution_count": 47,
     "metadata": {},
     "output_type": "execute_result"
    }
   ],
   "source": [
    "data_table"
   ]
  },
  {
   "cell_type": "code",
   "execution_count": 48,
   "id": "fa80aa1a-ae55-4944-a2dd-160dd447a147",
   "metadata": {},
   "outputs": [],
   "source": [
    "#observed value and expected value\n",
    "observed_values = data_table.values"
   ]
  },
  {
   "cell_type": "code",
   "execution_count": 49,
   "id": "0f783a4f-956a-4971-a5e5-d0c5c8da6f41",
   "metadata": {},
   "outputs": [],
   "source": [
    "#1st approach>>allowing chi2 itself some expected values\n",
    "stats_test, p, dof, expected_values = stats.chi2_contingency(observed_values)"
   ]
  },
  {
   "cell_type": "code",
   "execution_count": 50,
   "id": "2f86fe4f-d8c6-44ea-8e52-8bd8e6739153",
   "metadata": {},
   "outputs": [
    {
     "data": {
      "text/plain": [
       "array([[2.93333333, 5.06666667],\n",
       "       [2.93333333, 5.06666667],\n",
       "       [5.13333333, 8.86666667]])"
      ]
     },
     "execution_count": 50,
     "metadata": {},
     "output_type": "execute_result"
    }
   ],
   "source": [
    "expected_values"
   ]
  },
  {
   "cell_type": "code",
   "execution_count": 51,
   "id": "33711a58-7948-4dc2-8a21-6ba4dbbb7cfc",
   "metadata": {},
   "outputs": [
    {
     "data": {
      "text/plain": [
       "array([[2, 6],\n",
       "       [4, 4],\n",
       "       [5, 9]], dtype=int64)"
      ]
     },
     "execution_count": 51,
     "metadata": {},
     "output_type": "execute_result"
    }
   ],
   "source": [
    "observed_values"
   ]
  },
  {
   "cell_type": "code",
   "execution_count": 52,
   "id": "5549cecd-5563-4d1b-b1f0-ff952eed73d7",
   "metadata": {},
   "outputs": [
    {
     "name": "stdout",
     "output_type": "stream",
     "text": [
      "(array([2, 6], dtype=int64), array([2.93333333, 5.06666667]))\n",
      "(array([4, 4], dtype=int64), array([2.93333333, 5.06666667]))\n",
      "(array([5, 9], dtype=int64), array([5.13333333, 8.86666667]))\n"
     ]
    }
   ],
   "source": [
    "for i in zip(observed_values, expected_values):\n",
    "    print(i)"
   ]
  },
  {
   "cell_type": "code",
   "execution_count": 53,
   "id": "1bdc46ab-ff7a-41fa-b992-43a12d184df0",
   "metadata": {},
   "outputs": [],
   "source": [
    "chisquare_test = sum([(o-e)**2 / e for o, e in zip(observed_values, expected_values)])"
   ]
  },
  {
   "cell_type": "code",
   "execution_count": 54,
   "id": "7f8c7f0f-e654-468b-81d6-6d3cb2ff375e",
   "metadata": {},
   "outputs": [
    {
     "data": {
      "text/plain": [
       "1.0868079289131922"
      ]
     },
     "execution_count": 54,
     "metadata": {},
     "output_type": "execute_result"
    }
   ],
   "source": [
    "chisquare_stats = chisquare_test[0]+chisquare_test[1]\n",
    "chisquare_stats"
   ]
  },
  {
   "cell_type": "code",
   "execution_count": 55,
   "id": "9cb8a017-180c-4736-9167-5e57d5b716ea",
   "metadata": {},
   "outputs": [
    {
     "data": {
      "text/plain": [
       "2"
      ]
     },
     "execution_count": 55,
     "metadata": {},
     "output_type": "execute_result"
    }
   ],
   "source": [
    "dof"
   ]
  },
  {
   "cell_type": "code",
   "execution_count": 58,
   "id": "19fb2bbb-7806-4e3a-8792-3d2d6b399db5",
   "metadata": {},
   "outputs": [],
   "source": [
    "alpha=0.05"
   ]
  },
  {
   "cell_type": "code",
   "execution_count": 59,
   "id": "29f6f377-6873-4787-a8d5-7268fd2c763c",
   "metadata": {},
   "outputs": [],
   "source": [
    "chi2_critical = stats.chi2.ppf(1-alpha, df = dof)"
   ]
  },
  {
   "cell_type": "code",
   "execution_count": 60,
   "id": "54d409d9-f1c7-4f45-a526-a3c2a8b7ba95",
   "metadata": {},
   "outputs": [
    {
     "data": {
      "text/plain": [
       "5.991464547107979"
      ]
     },
     "execution_count": 60,
     "metadata": {},
     "output_type": "execute_result"
    }
   ],
   "source": [
    "chi2_critical"
   ]
  },
  {
   "cell_type": "code",
   "execution_count": 61,
   "id": "24272b54-c3fa-4396-b47c-e2cbdaea6cb0",
   "metadata": {},
   "outputs": [
    {
     "name": "stdout",
     "output_type": "stream",
     "text": [
      "fail to reject null hypothesis, no relationship\n"
     ]
    }
   ],
   "source": [
    "if chisquare_stats > chi2_critical:\n",
    "    print(\"Reject the null hypothesis, there is a relationship between two cat var\")\n",
    "else:\n",
    "    print(\"fail to reject null hypothesis, no relationship\")"
   ]
  },
  {
   "cell_type": "code",
   "execution_count": 62,
   "id": "b6cd3333-80a2-4bd0-91f3-1cfed2f305ce",
   "metadata": {},
   "outputs": [],
   "source": [
    "#pvalue method\n",
    "\n",
    "pvalue = 1-stats.chi2.cdf(x = chisquare_stats, df =dof)"
   ]
  },
  {
   "cell_type": "code",
   "execution_count": 63,
   "id": "6b9124cb-4ad4-4aee-b997-be4231b81365",
   "metadata": {},
   "outputs": [
    {
     "name": "stdout",
     "output_type": "stream",
     "text": [
      "fail to reject null hypothesis, no relationship\n"
     ]
    }
   ],
   "source": [
    "if pvalue <= alpha:\n",
    "    print(\"Reject the null hypothesis, there is a relationship between two cat var\")\n",
    "else:\n",
    "    print(\"fail to reject null hypothesis, no relationship\")"
   ]
  },
  {
   "cell_type": "markdown",
   "id": "7109c649-54b2-412f-8f2a-c1dfac0a7975",
   "metadata": {},
   "source": [
    " 22. A company conducted a customer satisfaction survey to determine if there is a significant relationship \n",
    "between product satisfaction levels (Satisfied, Neutral, Dissatisfied) and the region where customers are \n",
    "located (East, West, North, South). The survey data is summarized in a contingency table. Conduct a Chi\u0002Square test to determine if there is a significant relationship between product satisfaction levels and \n",
    "customer regions.\n",
    "\n",
    "\n",
    "Sample data:\n",
    "\n",
    "```python\n",
    "\n",
    "#Sample data: Product satisfaction levels (rows) vs. Customer regions (columns)\n",
    "\n",
    "data = np.array([[50, 30, 40, 20], [30, 40, 30, 50], [20, 30, 40, 30]])"
   ]
  },
  {
   "cell_type": "code",
   "execution_count": 65,
   "id": "5fba8f00-2c32-40f5-ae73-e584e798ae08",
   "metadata": {},
   "outputs": [],
   "source": [
    "data = np.array([[50, 30, 40, 20], [30, 40, 30, 50], [20, 30, 40, 30]])"
   ]
  },
  {
   "cell_type": "code",
   "execution_count": 66,
   "id": "b9d57b92-0e47-4d76-8914-1dfbed3c1a46",
   "metadata": {},
   "outputs": [],
   "source": [
    "df=pd.DataFrame(data,columns=['East', 'West', 'North', 'South'],index=['Satisfied', 'Neutral', 'Dissatisfied'])"
   ]
  },
  {
   "cell_type": "code",
   "execution_count": 67,
   "id": "a58843a7-1bb8-44f3-b847-12a84e8d8040",
   "metadata": {},
   "outputs": [
    {
     "data": {
      "text/html": [
       "<div>\n",
       "<style scoped>\n",
       "    .dataframe tbody tr th:only-of-type {\n",
       "        vertical-align: middle;\n",
       "    }\n",
       "\n",
       "    .dataframe tbody tr th {\n",
       "        vertical-align: top;\n",
       "    }\n",
       "\n",
       "    .dataframe thead th {\n",
       "        text-align: right;\n",
       "    }\n",
       "</style>\n",
       "<table border=\"1\" class=\"dataframe\">\n",
       "  <thead>\n",
       "    <tr style=\"text-align: right;\">\n",
       "      <th></th>\n",
       "      <th>East</th>\n",
       "      <th>West</th>\n",
       "      <th>North</th>\n",
       "      <th>South</th>\n",
       "    </tr>\n",
       "  </thead>\n",
       "  <tbody>\n",
       "    <tr>\n",
       "      <th>Satisfied</th>\n",
       "      <td>50</td>\n",
       "      <td>30</td>\n",
       "      <td>40</td>\n",
       "      <td>20</td>\n",
       "    </tr>\n",
       "    <tr>\n",
       "      <th>Neutral</th>\n",
       "      <td>30</td>\n",
       "      <td>40</td>\n",
       "      <td>30</td>\n",
       "      <td>50</td>\n",
       "    </tr>\n",
       "    <tr>\n",
       "      <th>Dissatisfied</th>\n",
       "      <td>20</td>\n",
       "      <td>30</td>\n",
       "      <td>40</td>\n",
       "      <td>30</td>\n",
       "    </tr>\n",
       "  </tbody>\n",
       "</table>\n",
       "</div>"
      ],
      "text/plain": [
       "              East  West  North  South\n",
       "Satisfied       50    30     40     20\n",
       "Neutral         30    40     30     50\n",
       "Dissatisfied    20    30     40     30"
      ]
     },
     "execution_count": 67,
     "metadata": {},
     "output_type": "execute_result"
    }
   ],
   "source": [
    "df"
   ]
  },
  {
   "cell_type": "markdown",
   "id": "29dd0ae9-8506-4ae7-9baa-6234de4c3f75",
   "metadata": {},
   "source": [
    "H0:if there is not a significant relationship between product satisfaction levels and customer regions.\n",
    "\n",
    "H1:if there is  a significant relationship between product satisfaction levels and customer regions"
   ]
  },
  {
   "cell_type": "code",
   "execution_count": null,
   "id": "44138c42-ff0f-4497-9587-c401bc40b7e1",
   "metadata": {},
   "outputs": [],
   "source": []
  },
  {
   "cell_type": "code",
   "execution_count": 72,
   "id": "794e8d93-e48b-4bdf-844a-5c6c4ba19bf2",
   "metadata": {},
   "outputs": [
    {
     "name": "stdout",
     "output_type": "stream",
     "text": [
      "Chi-Square Statistic: 27.777056277056275\n",
      "p-value: 0.00010349448486004387\n",
      "Degrees of Freedom: 6\n",
      "Expected Frequencies:\n",
      "[[34.14634146 34.14634146 37.56097561 34.14634146]\n",
      " [36.58536585 36.58536585 40.24390244 36.58536585]\n",
      " [29.26829268 29.26829268 32.19512195 29.26829268]]\n"
     ]
    }
   ],
   "source": [
    "import numpy as np\n",
    "from scipy.stats import chi2_contingency\n",
    "\n",
    "# Sample data: Product satisfaction levels (rows) vs. Customer regions (columns)\n",
    "data = np.array([[50, 30, 40, 20], \n",
    "                 [30, 40, 30, 50], \n",
    "                 [20, 30, 40, 30]])\n",
    "\n",
    "# Perform the Chi-Square test\n",
    "chi2, p_value, dof, expected = chi2_contingency(data)\n",
    "\n",
    "# Output the results\n",
    "print(f\"Chi-Square Statistic: {chi2}\")\n",
    "print(f\"p-value: {p_value}\")\n",
    "print(f\"Degrees of Freedom: {dof}\")\n",
    "print(\"Expected Frequencies:\")\n",
    "print(expected)\n"
   ]
  },
  {
   "cell_type": "code",
   "execution_count": 70,
   "id": "9e99815c-e489-4930-9e63-1c19de6c2f8a",
   "metadata": {},
   "outputs": [
    {
     "name": "stdout",
     "output_type": "stream",
     "text": [
      "fail to reject null hypothesis, no relationship\n"
     ]
    }
   ],
   "source": [
    "if pvalue <= alpha:\n",
    "    print(\"Reject the null hypothesis, there is a relationship between two cat var\")\n",
    "else:\n",
    "    print(\"fail to reject null hypothesis, no relationship\")"
   ]
  },
  {
   "cell_type": "markdown",
   "id": "affec54d-f8fb-4d85-af82-5600f4c6c877",
   "metadata": {},
   "source": [
    " 23. A company implemented an employee training program to improve job performance (Effective, Neutral, \n",
    "Ineffective). After the training, they collected data from a sample of employees and classified them based \n",
    "on their job performance before and after the training. Perform a Chi-Square test to determine if there is a \n",
    "significant difference between job performance levels before and after the training.\n",
    "\n",
    "\n",
    "Sample data:\n",
    "\n",
    "```python\n",
    "\n",
    "# Sample data: Job performance levels before (rows) and after (columns) training\n",
    "\n",
    "data = np.array([[50, 30, 20], [30, 40, 30], [20, 30, 40]])"
   ]
  },
  {
   "cell_type": "code",
   "execution_count": 73,
   "id": "f18f507c-b9b1-4b84-af51-600152d76778",
   "metadata": {},
   "outputs": [],
   "source": [
    "data = np.array([[50, 30, 20], [30, 40, 30], [20, 30, 40]])"
   ]
  },
  {
   "cell_type": "markdown",
   "id": "54cbd4c7-2e4e-4a62-a5db-8ad126c9c738",
   "metadata": {},
   "source": [
    "H0:if there is  not a significant difference between job performance levels before and after the training.\n",
    "\n",
    "H1: if there is  a significant difference between job performance levels before and after the training."
   ]
  },
  {
   "cell_type": "code",
   "execution_count": 74,
   "id": "87af4806-d693-405a-afc1-6dbb43811821",
   "metadata": {},
   "outputs": [
    {
     "name": "stdout",
     "output_type": "stream",
     "text": [
      "Chi-Square Statistic: 22.161728395061726\n",
      "p-value: 0.00018609719479882557\n",
      "Degrees of Freedom: 4\n",
      "Expected Frequencies:\n",
      "[[34.48275862 34.48275862 31.03448276]\n",
      " [34.48275862 34.48275862 31.03448276]\n",
      " [31.03448276 31.03448276 27.93103448]]\n"
     ]
    }
   ],
   "source": [
    "chi2, p_value, dof, expected = chi2_contingency(data)\n",
    "\n",
    "# Output the results\n",
    "print(f\"Chi-Square Statistic: {chi2}\")\n",
    "print(f\"p-value: {p_value}\")\n",
    "print(f\"Degrees of Freedom: {dof}\")\n",
    "print(\"Expected Frequencies:\")\n",
    "print(expected)\n"
   ]
  },
  {
   "cell_type": "code",
   "execution_count": 75,
   "id": "2f20462a-fa4a-48cd-967e-16fbac92517a",
   "metadata": {},
   "outputs": [
    {
     "name": "stdout",
     "output_type": "stream",
     "text": [
      "fail to reject null hypothesis, no relationship\n"
     ]
    }
   ],
   "source": [
    "if pvalue <= alpha:\n",
    "    print(\"Reject the null hypothesis, there is a relationship between two cat var\")\n",
    "else:\n",
    "    print(\"fail to reject null hypothesis, no relationship\")"
   ]
  },
  {
   "cell_type": "markdown",
   "id": "95bbadea-4c29-43ae-be36-73af9cd5a0db",
   "metadata": {},
   "source": [
    "24. A company produces three different versions of a product: Standard, Premium, and Deluxe. The \n",
    "company wants to determine if there is a significant difference in customer satisfaction scores among the \n",
    "three product versions. They conducted a survey and collected customer satisfaction scores for each \n",
    "version from a random sample of customers. Perform an ANOVA test to determine if there is a significant \n",
    "difference in customer satisfaction scores.\n",
    "\n",
    "\n",
    "  Use the following data:\n",
    "\n",
    "  ```python\n",
    "\n",
    "  # Sample data: Customer satisfaction scores for each product version\n",
    "\n",
    "  standard_scores = [80, 85, 90, 78, 88, 82, 92, 78, 85, 87]\n",
    "\n",
    "  premium_scores = [90, 92, 88, 92, 95, 91, 96, 93, 89, 93]\n",
    "\n",
    "  deluxe_scores = [95, 98, 92, 97, 96, 94, 98, 97, 92, 99]"
   ]
  },
  {
   "cell_type": "code",
   "execution_count": 77,
   "id": "791218d4-3cb1-418d-8109-ed6e66a4eea5",
   "metadata": {},
   "outputs": [],
   "source": [
    "standard_scores = [80, 85, 90, 78, 88, 82, 92, 78, 85, 87]\n",
    "\n",
    "premium_scores = [90, 92, 88, 92, 95, 91, 96, 93, 89, 93]\n",
    "\n",
    "deluxe_scores = [95, 98, 92, 97, 96, 94, 98, 97, 92, 99]\n"
   ]
  },
  {
   "cell_type": "markdown",
   "id": "a3307041-f8cf-4091-8a6f-f3a95dc9dd7a",
   "metadata": {},
   "source": [
    "H0: if there is not  a significant difference in customer satisfaction scores.\n",
    "\n",
    "H1:  if there is   a significant difference in customer satisfaction scores.\n"
   ]
  },
  {
   "cell_type": "code",
   "execution_count": null,
   "id": "62d39bac-13df-4591-82cb-6646f973fa38",
   "metadata": {},
   "outputs": [],
   "source": [
    "import numpy as np\n",
    "import scipy.stats as stats\n",
    "\n",
    "# Sample data\n",
    "standard_scores = [80, 85, 90, 78, 88, 82, 92, 78, 85, 87]\n",
    "premium_scores = [90, 92, 88, 92, 95, 91, 96, 93, 89, 93]\n",
    "deluxe_scores = [95, 98, 92, 97, 96, 94, 98, 97, 92, 99]\n",
    "\n",
    "# Perform ANOVA\n",
    "f_statistic, p_value = stats.f_oneway(standard_scores, premium_scores, deluxe_scores)\n",
    "\n",
    "# Output results\n",
    "print(\"F-Statistic:\", f_statistic)\n",
    "print(\"P-Value:\", p_value)\n",
    "\n",
    "# Interpret the result\n",
    "alpha = 0.05\n",
    "if p_value < alpha:\n",
    "    print(\"Reject the null hypothesis: There is a significant difference in customer satisfaction scores.\")\n",
    "else:\n",
    "    print(\"Fail to reject the null hypothesis: There is no significant difference in customer satisfaction scores.\")\n"
   ]
  },
  {
   "cell_type": "code",
   "execution_count": null,
   "id": "2d6e9fb6-9302-4991-bf9f-ede18c98826a",
   "metadata": {},
   "outputs": [],
   "source": []
  }
 ],
 "metadata": {
  "kernelspec": {
   "display_name": "Python 3 (ipykernel)",
   "language": "python",
   "name": "python3"
  },
  "language_info": {
   "codemirror_mode": {
    "name": "ipython",
    "version": 3
   },
   "file_extension": ".py",
   "mimetype": "text/x-python",
   "name": "python",
   "nbconvert_exporter": "python",
   "pygments_lexer": "ipython3",
   "version": "3.11.7"
  }
 },
 "nbformat": 4,
 "nbformat_minor": 5
}
